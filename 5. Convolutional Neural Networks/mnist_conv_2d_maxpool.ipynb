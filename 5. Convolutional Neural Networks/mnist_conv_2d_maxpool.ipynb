{
  "cells": [
    {
      "cell_type": "code",
      "execution_count": 31,
      "id": "0c33ede8",
      "metadata": {
        "id": "0c33ede8"
      },
      "outputs": [],
      "source": [
        "from tensorflow.keras.datasets import mnist\n",
        "\n",
        "from tensorflow.keras.models import Sequential\n",
        "from tensorflow.keras.utils import to_categorical\n",
        "from tensorflow.keras.callbacks import EarlyStopping\n",
        "from tensorflow.keras.layers import Dense, Flatten, Conv2D, MaxPooling2D, Input\n",
        "import numpy as np\n",
        "import matplotlib.pyplot as plt"
      ]
    },
    {
      "cell_type": "code",
      "execution_count": 32,
      "id": "702e16ad",
      "metadata": {},
      "outputs": [],
      "source": [
        "ENTRADA = np.array([[1,0,0,0,0,0,1],\n",
        "                    [0,1,0,0,0,1,0],\n",
        "                    [0,0,1,0,1,0,0],\n",
        "                    [0,0,0,1,0,0,0],\n",
        "                    [0,0,1,0,1,0,0],\n",
        "                    [0,1,0,0,0,1,0],\n",
        "                    [1,0,0,0,0,0,1]\n",
        "                    ])\n",
        "KERNEL = np.array([[-1,0,1],\n",
        "                   [-1,0,1],\n",
        "                   [-1,0,1]])"
      ]
    },
    {
      "cell_type": "code",
      "execution_count": 33,
      "id": "8587dbdf",
      "metadata": {},
      "outputs": [],
      "source": [
        "ENTRADA = np.array([[1,0,0,0,0,0,1],\n",
        "                    [0,1,0,0,0,1,0],\n",
        "                    [0,0,1,0,1,0,0],\n",
        "                    [0,0,0,1,0,0,0],\n",
        "                    [0,0,1,0,1,0,0],\n",
        "                    [0,1,0,0,0,1,0],\n",
        "                    [1,0,0,0,0,0,1]])\n",
        "\n",
        "Kernel1 = np.array([[0,-1,0],\n",
        "                    [-1,1,-1],\n",
        "                    [0,-1,0]\n",
        "                    ])\n",
        "\n",
        "Kernel2 = np.array([[0,0,0],\n",
        "                    [0,1,0],\n",
        "                    [0,0,0]\n",
        "                    ])"
      ]
    },
    {
      "cell_type": "code",
      "execution_count": 34,
      "id": "8eec5cf6",
      "metadata": {
        "colab": {
          "base_uri": "https://localhost:8080/"
        },
        "id": "8eec5cf6",
        "outputId": "e9bdd4a9-ccea-418f-b5c4-38a8cb41dcdd"
      },
      "outputs": [],
      "source": [
        "input_shape = (28, 28, 1)\n",
        "\n",
        "(X_train, Y_train), (X_test, Y_test) = mnist.load_data()\n",
        "\n",
        "# Make sure images have shape (28, 28, 1)\n",
        "X_train = np.expand_dims(X_train, -1)\n",
        "X_test = np.expand_dims(X_test, -1)\n",
        "\n",
        "Y_train = to_categorical(Y_train, num_classes = 10)\n",
        "Y_test = to_categorical (Y_test, num_classes = 10)\n",
        "\n",
        "# Normalization\n",
        "for i in range(X_train.shape[0]):\n",
        "    X_train[i] = (X_train[i]-X_train[i].mean())/X_train[i].std()\n",
        "\n",
        "for i in range(X_test.shape[0]):\n",
        "    X_test[i] = (X_test[i]-X_test[i].mean())/X_test[i].std()\n"
      ]
    },
    {
      "cell_type": "code",
      "execution_count": 35,
      "id": "593c449a",
      "metadata": {
        "colab": {
          "base_uri": "https://localhost:8080/"
        },
        "id": "593c449a",
        "outputId": "9ce155f8-fe83-4d82-ed3e-bfb39df30121"
      },
      "outputs": [
        {
          "name": "stdout",
          "output_type": "stream",
          "text": [
            "Model: \"sequential_4\"\n",
            "_________________________________________________________________\n",
            " Layer (type)                Output Shape              Param #   \n",
            "=================================================================\n",
            " conv2d_4 (Conv2D)           (None, 26, 26, 4)         40        \n",
            "                                                                 \n",
            " max_pooling2d_4 (MaxPoolin  (None, 13, 13, 4)         0         \n",
            " g2D)                                                            \n",
            "                                                                 \n",
            " flatten_4 (Flatten)         (None, 676)               0         \n",
            "                                                                 \n",
            " dense_4 (Dense)             (None, 10)                6770      \n",
            "                                                                 \n",
            "=================================================================\n",
            "Total params: 6810 (26.60 KB)\n",
            "Trainable params: 6810 (26.60 KB)\n",
            "Non-trainable params: 0 (0.00 Byte)\n",
            "_________________________________________________________________\n"
          ]
        }
      ],
      "source": [
        "# --- hiperparámetros ---\n",
        "F = 4   #-- cantidad de filtros o de mapas de características --\n",
        "K = 3   #-- tamaño del kernel o máscara ---\n",
        "S = 1   #-- stride ---\n",
        "P = 0   #-- padding ---\n",
        "FUN = \"relu\"   #-- función de activación de la capa de convolucion --\n",
        "PS = 2  #-- tamaño para la ventana de pooling  --\n",
        "\n",
        "model = Sequential()\n",
        "model.add(Input(shape=(28, 28, 1)))\n",
        "model.add(Conv2D(F, kernel_size=K, strides=(S,S), activation=FUN))\n",
        "model.add(MaxPooling2D(pool_size=(PS,PS)))\n",
        "model.add(Flatten())\n",
        "model.add(Dense(10, activation='softmax'))\n",
        "model.summary()"
      ]
    },
    {
      "cell_type": "code",
      "execution_count": 36,
      "id": "98044039",
      "metadata": {
        "id": "98044039"
      },
      "outputs": [],
      "source": [
        "model.compile('SGD', loss = 'categorical_crossentropy', metrics = ['accuracy'])"
      ]
    },
    {
      "cell_type": "code",
      "execution_count": 37,
      "id": "1b6a312b",
      "metadata": {
        "id": "1b6a312b",
        "outputId": "8b558c0c-53d0-4644-af67-fc0cf37c91e4"
      },
      "outputs": [
        {
          "name": "stdout",
          "output_type": "stream",
          "text": [
            "Epoch 1/2\n",
            "30000/30000 [==============================] - 33s 1ms/step - loss: 0.2527 - accuracy: 0.9252 - val_loss: 0.1310 - val_accuracy: 0.9618\n",
            "Epoch 2/2\n",
            "30000/30000 [==============================] - 32s 1ms/step - loss: 0.1216 - accuracy: 0.9643 - val_loss: 0.1089 - val_accuracy: 0.9701\n",
            "Epocas = 0\n"
          ]
        }
      ],
      "source": [
        "LOTES = 2\n",
        "EPOCAS  = 2\n",
        "\n",
        "# entrena el modelo y guarda la historia del progreso\n",
        "es = EarlyStopping(monitor='val_accuracy', patience=3, min_delta=0.001)\n",
        "H = model.fit(x = X_train, y = Y_train, batch_size=LOTES, validation_data = (X_test, Y_test), epochs=EPOCAS, callbacks=[es])\n",
        "\n",
        "# H = model.fit(x = X_train, y = Y_train, batch_size = LOTES, epochs = EPOCAS, validation_data = (X_test, Y_test))\n",
        "\n",
        "print(\"Epocas = %d\" % es.stopped_epoch)\n"
      ]
    },
    {
      "cell_type": "code",
      "execution_count": 40,
      "id": "0b1ef05b",
      "metadata": {
        "id": "0b1ef05b",
        "outputId": "92927c9c-8e2d-4a8a-d4a0-29b9907d91cc"
      },
      "outputs": [
        {
          "data": {
            "text/plain": [
              "<matplotlib.legend.Legend at 0x7fc2042c17e0>"
            ]
          },
          "execution_count": 40,
          "metadata": {},
          "output_type": "execute_result"
        },
        {
          "data": {
            "image/png": "[encoded data removed]",
            "text/plain": [
              "<Figure size 640x480 with 1 Axes>"
            ]
          },
          "metadata": {},
          "output_type": "display_data"
        }
      ],
      "source": [
        "# dibuja accuracy del progreso del entrenamiento\n",
        "\n",
        "# N = np.arange(0, EPOCAS)\n",
        "accuracy = np.array(H.history[\"accuracy\"])\n",
        "val_accuracy = np.array(H.history[\"val_accuracy\"])\n",
        "\n",
        "N = np.arange(0, len(accuracy))\n",
        "plt.figure()\n",
        "#plt.plot(N, H.history[\"loss\"], label=\"train_loss\")\n",
        "#plt.plot(N, H.history[\"val_loss\"], label=\"val_loss\")\n",
        "plt.plot(N, 100*accuracy, label=\"train_acc\")\n",
        "plt.plot(N, 100*val_accuracy, label=\"val_acc\")\n",
        "plt.title(\"Efectividad de Entrenamiento\")\n",
        "plt.xlabel(\"Época #\")\n",
        "plt.ylabel(\"Efectividad\")\n",
        "plt.legend(loc=\"lower right\")"
      ]
    },
    {
      "cell_type": "code",
      "execution_count": 41,
      "id": "d7eb2d8e",
      "metadata": {
        "id": "d7eb2d8e",
        "outputId": "d9b726dd-5684-4c7c-e56e-f5b6dafef873"
      },
      "outputs": [
        {
          "name": "stdout",
          "output_type": "stream",
          "text": [
            "5000/5000 [==============================] - 4s 765us/step - loss: 0.1089 - accuracy: 0.9701\n",
            "\n",
            "Efectividad del modelo con datos de validación:  97.01%\n"
          ]
        }
      ],
      "source": [
        "# evalua el modelo con los datos de validacion\n",
        "pred = model.evaluate(X_test, Y_test, batch_size = LOTES)\n",
        "\n",
        "print(\"\\nEfectividad del modelo con datos de validación: %6.2f%%\" % (pred[1]*100))"
      ]
    }
  ],
  "metadata": {
    "accelerator": "GPU",
    "colab": {
      "provenance": []
    },
    "gpuClass": "standard",
    "kernelspec": {
      "display_name": "Python 3 (ipykernel)",
      "language": "python",
      "name": "python3"
    },
    "language_info": {
      "codemirror_mode": {
        "name": "ipython",
        "version": 3
      },
      "file_extension": ".py",
      "mimetype": "text/x-python",
      "name": "python",
      "nbconvert_exporter": "python",
      "pygments_lexer": "ipython3",
      "version": "3.10.6"
    }
  },
  "nbformat": 4,
  "nbformat_minor": 5
}
