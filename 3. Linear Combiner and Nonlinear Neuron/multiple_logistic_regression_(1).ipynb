{
  "cells": [
    {
      "attachments": {},
      "cell_type": "markdown",
      "id": "70cfae07",
      "metadata": {
        "id": "70cfae07"
      },
      "source": [
        "**SETUP**"
      ]
    },
    {
      "cell_type": "code",
      "execution_count": 13,
      "id": "-pEm6Ljkx7ud",
      "metadata": {
        "id": "-pEm6Ljkx7ud"
      },
      "outputs": [],
      "source": [
        "import pandas as pd\n",
        "import numpy as np\n",
        "import matplotlib.pyplot as matplot\n",
        "import sys\n",
        "sys.path.insert(0,'classes')"
      ]
    },
    {
      "attachments": {},
      "cell_type": "markdown",
      "id": "tEwR81aNHqK4",
      "metadata": {
        "id": "tEwR81aNHqK4"
      },
      "source": [
        "# Regresión Lineal Múltiple\n",
        "**Ejercicio 8**\n",
        "Entrene un combinador lineal que reciba tres dígitos binarios y devuelva el número decimal correspondiente.\n",
        "* a. Utilizando el bias o peso W0\n",
        "* b. Utilizando únicamente las tres entradas correspondientes a los dígitos binarios sin el bias.\n",
        "\n",
        "Compare la cantidad de iteraciones necesarias para obtener el vector de pesos correcto en ambos casos. Observe el valor del arco correspondiente al bias en a)."
      ]
    },
    {
      "cell_type": "code",
      "execution_count": 14,
      "id": "c6130439",
      "metadata": {
        "id": "c6130439"
      },
      "outputs": [],
      "source": [
        "df_digitos = pd.read_csv('data/digitos_b_d.csv', dtype='object')"
      ]
    },
    {
      "cell_type": "code",
      "execution_count": 15,
      "id": "kJ-tWN7DydqJ",
      "metadata": {
        "id": "kJ-tWN7DydqJ"
      },
      "outputs": [],
      "source": [
        "elems_count = len(df_digitos['binario'])\n",
        "x = np.array(df_digitos['binario'])             #entrada\n",
        "d = np.array(df_digitos['decimal'], dtype=int)  #lo que busco predecir"
      ]
    },
    {
      "attachments": {},
      "cell_type": "markdown",
      "id": "VVTRwOzHLH6j",
      "metadata": {
        "id": "VVTRwOzHLH6j"
      },
      "source": [
        "Antes de comenzar con el entrenamiento, convierto los strings binarios a arreglos de ceros y unos, con esta forma ya están normalizados."
      ]
    },
    {
      "cell_type": "code",
      "execution_count": 16,
      "id": "-5RnmbAhUX2w",
      "metadata": {
        "colab": {
          "base_uri": "https://localhost:8080/"
        },
        "id": "-5RnmbAhUX2w",
        "outputId": "1059fa85-d52a-438f-b808-51e3a09610b1"
      },
      "outputs": [
        {
          "data": {
            "text/plain": [
              "array([[0, 0, 1],\n",
              "       [1, 1, 0],\n",
              "       [0, 1, 0],\n",
              "       [1, 0, 0],\n",
              "       [0, 1, 1],\n",
              "       [1, 1, 1],\n",
              "       [1, 0, 1]])"
            ]
          },
          "execution_count": 16,
          "metadata": {},
          "output_type": "execute_result"
        }
      ],
      "source": [
        "#Convierto la entrada en un arreglo de 4 entradas por ejemplo\n",
        "x_inputs = np.zeros(shape=(len(x),len(x[0])), dtype=int)\n",
        "# Recorro los elementos del arreglo x y lo paso a la matriz x_inputs\n",
        "for i in range(elems_count):\n",
        "  for j in range(3):\n",
        "    x_inputs[i][j] = int(x[i][j])\n",
        "x_inputs"
      ]
    },
    {
      "attachments": {},
      "cell_type": "markdown",
      "id": "uTwwnvgIzoSm",
      "metadata": {
        "id": "uTwwnvgIzoSm"
      },
      "source": [
        "Entrene un combinador lineal que reciba tres dígitos binarios y devuelva el número decimal correspondiente.\n",
        "\n",
        "**a.** Utilizando el bias o peso W0"
      ]
    },
    {
      "attachments": {},
      "cell_type": "markdown",
      "id": "Bkchq9Ce5pCi",
      "metadata": {
        "id": "Bkchq9Ce5pCi"
      },
      "source": [
        "# FIT"
      ]
    },
    {
      "cell_type": "code",
      "execution_count": 17,
      "id": "U9Hvy9at25oi",
      "metadata": {
        "id": "U9Hvy9at25oi"
      },
      "outputs": [],
      "source": [
        "\"\"\"Defino los parametros de la neurona\"\"\"\n",
        "alpha=0.01\n",
        "max_iter=100\n",
        "cota_error=10e-03\n",
        "\"\"\"Los pesos ahora son una matriz de X por Y, siendo X la cantidad de nros.\n",
        "binarios e Y la cantidad de digitos del nro. o sea el nro. de bits. \"\"\"\n",
        "#Inicializo los pesos en 1: [1,1,1,1]\n",
        "w = np.ones(shape=3, dtype=float)\n",
        "\n",
        "\"\"\"Entrenamiento de la neurona lineal\"\"\"\n",
        "errors = []\n",
        "examples_count = len(x_inputs)    # nro. de ejemplos (filas de mi dataset)\n",
        "inputs_count = len(x_inputs[0])   # nro. de columnas (entradas de la neurona)\n",
        "\n",
        "ErrorAnt = 0\n",
        "ErrorAct = 1\n",
        "ite = 0\n",
        "\n",
        "while (ite < max_iter) and (np.abs(ErrorAnt- ErrorAct) > cota_error):\n",
        "\n",
        "    ErrorAnt = ErrorAct\n",
        "    ErrorAct = 0\n",
        "\n",
        "    #Recorro todos los ejemplos\n",
        "    for e in range(examples_count):\n",
        "\n",
        "        #Sumatoria\n",
        "        sum = 0.0\n",
        "\n",
        "        #Tomo el e-esimo ejemplo\n",
        "        input = x_inputs[e]   # [X,X,X,X]\n",
        "\n",
        "        #Calculo la neta - Sin el bias\n",
        "        for i in range(inputs_count):\n",
        "          sum = sum + (input[i] * w[i])\n",
        "\n",
        "        #Salida es igual a la sumatoria de los productos\n",
        "        y = sum\n",
        "\n",
        "        #Calculo el error\n",
        "        error = d[e] - y\n",
        "\n",
        "        #Actualizo los pesos\n",
        "        for p in range(inputs_count):\n",
        "          w[p]= w[p] + alpha * error * input[p]\n",
        "\n",
        "        ErrorAct = ErrorAct + (error**2)\n",
        "\n",
        "    errors.append(ErrorAct)\n",
        "\n",
        "    ite = ite + 1"
      ]
    },
    {
      "cell_type": "code",
      "execution_count": 18,
      "id": "GATihG1dGcDX",
      "metadata": {
        "colab": {
          "base_uri": "https://localhost:8080/"
        },
        "id": "GATihG1dGcDX",
        "outputId": "4d7f578e-7d73-4f55-c8b5-4f9f75e0bf42"
      },
      "outputs": [
        {
          "data": {
            "text/plain": [
              "92"
            ]
          },
          "execution_count": 18,
          "metadata": {},
          "output_type": "execute_result"
        }
      ],
      "source": [
        "ite"
      ]
    },
    {
      "cell_type": "code",
      "execution_count": 19,
      "id": "Z9kY0NzM7CCp",
      "metadata": {
        "colab": {
          "base_uri": "https://localhost:8080/",
          "height": 279
        },
        "id": "Z9kY0NzM7CCp",
        "outputId": "c15a2a83-5f30-4765-e989-6c5529e4c41d"
      },
      "outputs": [
        {
          "data": {
            "image/png": "[encoded data removed]",
            "text/plain": [
              "<Figure size 640x480 with 1 Axes>"
            ]
          },
          "metadata": {},
          "output_type": "display_data"
        }
      ],
      "source": [
        "matplot.plot(range(1, len(errors) + 1), errors, marker='o')\n",
        "matplot.xlabel('Iteraciones')\n",
        "matplot.ylabel('Cantidad de actualizaciones')\n",
        "matplot.show()"
      ]
    },
    {
      "cell_type": "code",
      "execution_count": 20,
      "id": "Z1q5j_qRZRRq",
      "metadata": {
        "colab": {
          "base_uri": "https://localhost:8080/"
        },
        "id": "Z1q5j_qRZRRq",
        "outputId": "105bb527-dd4d-421a-a2dd-aaabf504de27"
      },
      "outputs": [
        {
          "data": {
            "text/plain": [
              "array([3.73774272, 2.05281256, 1.20715038])"
            ]
          },
          "execution_count": 20,
          "metadata": {},
          "output_type": "execute_result"
        }
      ],
      "source": [
        "w"
      ]
    },
    {
      "attachments": {},
      "cell_type": "markdown",
      "id": "Vxt6aa7rZfF3",
      "metadata": {
        "id": "Vxt6aa7rZfF3"
      },
      "source": [
        "# PREDICT"
      ]
    },
    {
      "cell_type": "code",
      "execution_count": 21,
      "id": "uATgr-W7Zhpf",
      "metadata": {
        "colab": {
          "base_uri": "https://localhost:8080/"
        },
        "id": "uATgr-W7Zhpf",
        "outputId": "a6a2d6aa-41e9-4b84-b206-dae66bd1b6b7"
      },
      "outputs": [
        {
          "name": "stdout",
          "output_type": "stream",
          "text": [
            "1 1.207150382203098\n",
            "6 5.790555272287089\n",
            "2 2.052812555390637\n",
            "4 3.7377427168964523\n",
            "3 3.259962937593735\n",
            "7 6.997705654490187\n",
            "5 4.94489309909955\n"
          ]
        }
      ],
      "source": [
        "for e in range(examples_count):\n",
        "\n",
        "    #Sumatoria\n",
        "    sum = 0.0\n",
        "\n",
        "    #Tomo el e-esimo ejemplo\n",
        "    input = x_inputs[e]   # [X,X,X,X]\n",
        "\n",
        "    #Calculo la neta - Sin el bias\n",
        "    for i in range(inputs_count):\n",
        "      sum = sum + (input[i] * w[i])\n",
        "\n",
        "    #Salida es igual a la sumatoria de los productos\n",
        "    y = sum\n",
        "\n",
        "    #Imprimo lo que esperaba y lo que efectivamente me dió\n",
        "    print(d[e], y)"
      ]
    },
    {
      "attachments": {},
      "cell_type": "markdown",
      "id": "JYs_WJDUsVKr",
      "metadata": {
        "id": "JYs_WJDUsVKr"
      },
      "source": [
        "**b.** Utilizando únicamente las tres entradas correspondientes a los dígitos binarios sin el bias."
      ]
    },
    {
      "cell_type": "code",
      "execution_count": 22,
      "id": "BI5YNstAtbT3",
      "metadata": {
        "id": "BI5YNstAtbT3"
      },
      "outputs": [],
      "source": [
        "df_digitos = pd.read_csv('data/digitos_b_d.csv', dtype='object')\n",
        "elems_count = len(df_digitos['binario'])\n",
        "x = np.array(df_digitos['binario'])\n",
        "d = np.array(df_digitos['decimal'], dtype=int)\n",
        "x_inputs = np.zeros(shape=(len(x),len(x[0])), dtype=int)\n",
        "\n",
        "for i in range(elems_count):\n",
        "  for j in range(3):\n",
        "    x_inputs[i][j] = int(x[i][j])"
      ]
    },
    {
      "attachments": {},
      "cell_type": "markdown",
      "id": "OpapGv_lsvG9",
      "metadata": {
        "id": "OpapGv_lsvG9"
      },
      "source": [
        "# FIT"
      ]
    },
    {
      "cell_type": "code",
      "execution_count": 23,
      "id": "Xg1KxgFpsUrB",
      "metadata": {
        "id": "Xg1KxgFpsUrB"
      },
      "outputs": [],
      "source": [
        "\"\"\"Defino los parametros de la neurona\"\"\"\n",
        "alpha=0.01\n",
        "max_iter=100\n",
        "cota_error=10e-03\n",
        "\"\"\"Los pesos ahora son una matriz de X por Y, siendo X la cantidad de nros.\n",
        "binarios e Y la cantidad de digitos del nro. o sea el nro. de bits. \"\"\"\n",
        "#Inicializo los pesos en 1: [1,1,1,1]\n",
        "w = np.ones(shape=3, dtype=float)\n",
        "b = 1\n",
        "\n",
        "\"\"\"Entrenamiento de la neurona lineal\"\"\"\n",
        "errors = []\n",
        "examples_count = len(x_inputs)    # nro. de ejemplos (filas de mi dataset)\n",
        "inputs_count = len(x_inputs[0])   # nro. de columnas (entradas de la neurona)\n",
        "\n",
        "ErrorAnt = 0\n",
        "ErrorAct = 1\n",
        "ite = 0\n",
        "\n",
        "while (ite < max_iter) and (np.abs(ErrorAnt- ErrorAct) > cota_error):\n",
        "\n",
        "    ErrorAnt = ErrorAct\n",
        "    ErrorAct = 0\n",
        "\n",
        "    #Recorro todos los ejemplos\n",
        "    for e in range(examples_count):\n",
        "\n",
        "        #Sumatoria\n",
        "        sum = 0.0\n",
        "\n",
        "        #Tomo el e-esimo ejemplo\n",
        "        input = x_inputs[e]   # [X,X,X,X]\n",
        "\n",
        "        #Calculo la neta - Sin el bias\n",
        "        for i in range(inputs_count):\n",
        "          sum = sum + (input[i] * w[i])\n",
        "\n",
        "        #Salida es igual a la sumatoria de los productos\n",
        "        y = sum + b\n",
        "\n",
        "        #Calculo el error\n",
        "        error = d[e] - y\n",
        "\n",
        "        #Actualizo los pesos\n",
        "        for p in range(inputs_count):\n",
        "          w[p]= w[p] + alpha * error * input[p]\n",
        "        b = b + alpha * error\n",
        "\n",
        "        ErrorAct = ErrorAct + (error**2)\n",
        "\n",
        "    errors.append(ErrorAct)\n",
        "\n",
        "    ite = ite + 1"
      ]
    },
    {
      "cell_type": "code",
      "execution_count": 24,
      "id": "XCBCxBJjhzfl",
      "metadata": {
        "colab": {
          "base_uri": "https://localhost:8080/"
        },
        "id": "XCBCxBJjhzfl",
        "outputId": "740a2626-d6c7-4e15-c591-a75b57fde1d4"
      },
      "outputs": [
        {
          "data": {
            "text/plain": [
              "100"
            ]
          },
          "execution_count": 24,
          "metadata": {},
          "output_type": "execute_result"
        }
      ],
      "source": [
        "ite"
      ]
    },
    {
      "cell_type": "code",
      "execution_count": 25,
      "id": "gqqoBSOwvd7v",
      "metadata": {
        "colab": {
          "base_uri": "https://localhost:8080/",
          "height": 279
        },
        "id": "gqqoBSOwvd7v",
        "outputId": "4dadd217-c445-45ea-afa3-b88d021a8fe9"
      },
      "outputs": [
        {
          "data": {
            "image/png": "[encoded data removed]",
            "text/plain": [
              "<Figure size 640x480 with 1 Axes>"
            ]
          },
          "metadata": {},
          "output_type": "display_data"
        }
      ],
      "source": [
        "matplot.plot(range(1, len(errors) + 1), errors, marker='o')\n",
        "matplot.xlabel('Iteraciones')\n",
        "matplot.ylabel('Cantidad de actualizaciones')\n",
        "matplot.show()"
      ]
    },
    {
      "cell_type": "code",
      "execution_count": 26,
      "id": "slDisawXw0xE",
      "metadata": {
        "colab": {
          "base_uri": "https://localhost:8080/"
        },
        "id": "slDisawXw0xE",
        "outputId": "0aa8360f-d8e9-45e1-afb3-5553de2c4b71"
      },
      "outputs": [
        {
          "data": {
            "text/plain": [
              "array([3.26227463, 1.53437918, 0.66289206])"
            ]
          },
          "execution_count": 26,
          "metadata": {},
          "output_type": "execute_result"
        }
      ],
      "source": [
        "w"
      ]
    },
    {
      "cell_type": "code",
      "execution_count": 27,
      "id": "CJpJWnkLw1qr",
      "metadata": {
        "colab": {
          "base_uri": "https://localhost:8080/"
        },
        "id": "CJpJWnkLw1qr",
        "outputId": "6a73935a-1c9e-4501-a5dc-a23ede118bc1"
      },
      "outputs": [
        {
          "data": {
            "text/plain": [
              "0.9663208857502944"
            ]
          },
          "execution_count": 27,
          "metadata": {},
          "output_type": "execute_result"
        }
      ],
      "source": [
        "b"
      ]
    },
    {
      "attachments": {},
      "cell_type": "markdown",
      "id": "FrL9qlJKvL1D",
      "metadata": {
        "id": "FrL9qlJKvL1D"
      },
      "source": [
        "# PREDICT"
      ]
    },
    {
      "cell_type": "code",
      "execution_count": 28,
      "id": "aTJWj_96vNOh",
      "metadata": {
        "colab": {
          "base_uri": "https://localhost:8080/"
        },
        "id": "aTJWj_96vNOh",
        "outputId": "b5c2aee7-32d5-4f43-ca42-b08dd05aa5c0"
      },
      "outputs": [
        {
          "name": "stdout",
          "output_type": "stream",
          "text": [
            "1 1.6292129452052535\n",
            "6 5.762974696017915\n",
            "2 2.500700061190628\n",
            "4 4.228595520577582\n",
            "3 3.163592120645587\n",
            "7 6.425866755472875\n",
            "5 4.891487580032542\n"
          ]
        }
      ],
      "source": [
        "for e in range(examples_count):\n",
        "\n",
        "    #Sumatoria\n",
        "    sum = 0.0\n",
        "\n",
        "    #Tomo el e-esimo ejemplo\n",
        "    input = x_inputs[e]   # [X,X,X,X]\n",
        "\n",
        "    #Calculo la neta - Sin el bias\n",
        "    for i in range(inputs_count):\n",
        "      sum = sum + (input[i] * w[i])\n",
        "\n",
        "    #Salida es igual a la sumatoria de los productos\n",
        "    y = sum + b\n",
        "\n",
        "    #Imprimo lo que esperaba y lo que efectivamente me dió\n",
        "    print(d[e], y)"
      ]
    }
  ],
  "metadata": {
    "colab": {
      "provenance": []
    },
    "kernelspec": {
      "display_name": "Python 3",
      "language": "python",
      "name": "python3"
    },
    "language_info": {
      "codemirror_mode": {
        "name": "ipython",
        "version": 3
      },
      "file_extension": ".py",
      "mimetype": "text/x-python",
      "name": "python",
      "nbconvert_exporter": "python",
      "pygments_lexer": "ipython3",
      "version": "3.10.6"
    }
  },
  "nbformat": 4,
  "nbformat_minor": 5
}
