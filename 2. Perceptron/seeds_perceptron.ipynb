{
  "cells": [
    {
      "cell_type": "code",
      "execution_count": 39,
      "id": "ORkpvQon_H0B",
      "metadata": {
        "id": "ORkpvQon_H0B"
      },
      "outputs": [],
      "source": [
        "import sys\n",
        "sys.path.insert(0,'classes/')\n",
        "from grafica import *\n",
        "from ClassPerceptron import Perceptron"
      ]
    },
    {
      "cell_type": "code",
      "execution_count": 40,
      "id": "f3fbf3c3",
      "metadata": {
        "id": "f3fbf3c3"
      },
      "outputs": [],
      "source": [
        "%matplotlib inline\n",
        "import numpy as np\n",
        "import pandas as pandas\n",
        "import time\n",
        "from sklearn.model_selection import train_test_split\n",
        "#from matplotlib import pyplot as plt\n",
        "from matplotlib import pylab as plt\n",
        "from IPython import display"
      ]
    },
    {
      "cell_type": "code",
      "execution_count": 41,
      "id": "48Dm2FA5YMTC",
      "metadata": {
        "id": "48Dm2FA5YMTC"
      },
      "outputs": [],
      "source": [
        "#LOAD DATASET\n",
        "df_seeds = pandas.read_csv('data/seeds.csv')"
      ]
    },
    {
      "cell_type": "code",
      "execution_count": 42,
      "id": "XYxcPkZvH_3X",
      "metadata": {
        "id": "XYxcPkZvH_3X"
      },
      "outputs": [
        {
          "data": {
            "text/html": [
              "<div>\n",
              "<style scoped>\n",
              "    .dataframe tbody tr th:only-of-type {\n",
              "        vertical-align: middle;\n",
              "    }\n",
              "\n",
              "    .dataframe tbody tr th {\n",
              "        vertical-align: top;\n",
              "    }\n",
              "\n",
              "    .dataframe thead th {\n",
              "        text-align: right;\n",
              "    }\n",
              "</style>\n",
              "<table border=\"1\" class=\"dataframe\">\n",
              "  <thead>\n",
              "    <tr style=\"text-align: right;\">\n",
              "      <th></th>\n",
              "      <th>Area</th>\n",
              "      <th>Perimetro</th>\n",
              "      <th>Compacidad</th>\n",
              "      <th>LongNucleo</th>\n",
              "      <th>AnchoNucleo</th>\n",
              "      <th>Asimetria</th>\n",
              "      <th>LongSurco</th>\n",
              "      <th>Clase</th>\n",
              "    </tr>\n",
              "  </thead>\n",
              "  <tbody>\n",
              "    <tr>\n",
              "      <th>0</th>\n",
              "      <td>15.26</td>\n",
              "      <td>14.84</td>\n",
              "      <td>0.871</td>\n",
              "      <td>5.763</td>\n",
              "      <td>3.312</td>\n",
              "      <td>2.221</td>\n",
              "      <td>5.22</td>\n",
              "      <td>Tipo1</td>\n",
              "    </tr>\n",
              "  </tbody>\n",
              "</table>\n",
              "</div>"
            ],
            "text/plain": [
              "    Area  Perimetro  Compacidad  LongNucleo  AnchoNucleo  Asimetria   \n",
              "0  15.26      14.84       0.871       5.763        3.312      2.221  \\\n",
              "\n",
              "   LongSurco  Clase  \n",
              "0       5.22  Tipo1  "
            ]
          },
          "execution_count": 42,
          "metadata": {},
          "output_type": "execute_result"
        }
      ],
      "source": [
        "#PRINT DATAFRAME\n",
        "df_seeds.head(1)"
      ]
    },
    {
      "cell_type": "code",
      "execution_count": 43,
      "id": "MqmohCj82tUQ",
      "metadata": {
        "id": "MqmohCj82tUQ"
      },
      "outputs": [
        {
          "data": {
            "text/plain": [
              "array(['Tipo1', 'Tipo2', 'Tipo3'], dtype=object)"
            ]
          },
          "execution_count": 43,
          "metadata": {},
          "output_type": "execute_result"
        }
      ],
      "source": [
        "df_seeds.Clase.unique()"
      ]
    },
    {
      "cell_type": "code",
      "execution_count": 44,
      "id": "Tb9hXuZVUfhP",
      "metadata": {
        "id": "Tb9hXuZVUfhP"
      },
      "outputs": [],
      "source": [
        "#NUMERIZATION\n",
        "df_seeds['Rosa'] = df_seeds['Clase'].map({'Tipo1' : 0, 'Tipo2' : 1, 'Tipo3' : 0})\n",
        "df_seeds = df_seeds.drop(columns='Clase')"
      ]
    },
    {
      "cell_type": "code",
      "execution_count": 45,
      "id": "YHeC_cKcxSOy",
      "metadata": {
        "id": "YHeC_cKcxSOy"
      },
      "outputs": [],
      "source": [
        "df_seeds = df_seeds.drop(columns=['Area', 'Perimetro'])"
      ]
    },
    {
      "cell_type": "code",
      "execution_count": 46,
      "id": "Vexfgabs39u5",
      "metadata": {
        "id": "Vexfgabs39u5"
      },
      "outputs": [],
      "source": [
        "#NORMALIZATION\n",
        "df_seeds['Compacidad'] = (df_seeds['Compacidad'] - df_seeds['Compacidad'].mean()) / (df_seeds['Compacidad'].std())\n",
        "df_seeds['LongNucleo'] = (df_seeds['LongNucleo'] - df_seeds['LongNucleo'].mean()) / (df_seeds['LongNucleo'].std())\n",
        "df_seeds['AnchoNucleo'] = (df_seeds['AnchoNucleo'] - df_seeds['AnchoNucleo'].mean()) / (df_seeds['AnchoNucleo'].std())\n",
        "df_seeds['Asimetria'] = (df_seeds['Asimetria'] - df_seeds['Asimetria'].mean()) / (df_seeds['Asimetria'].std())\n",
        "df_seeds['LongSurco'] = (df_seeds['LongSurco'] - df_seeds['LongSurco'].mean()) / (df_seeds['LongSurco'].std())"
      ]
    },
    {
      "cell_type": "code",
      "execution_count": 47,
      "id": "Vm0Q1VM_-09U",
      "metadata": {
        "id": "Vm0Q1VM_-09U"
      },
      "outputs": [
        {
          "data": {
            "text/html": [
              "<div>\n",
              "<style scoped>\n",
              "    .dataframe tbody tr th:only-of-type {\n",
              "        vertical-align: middle;\n",
              "    }\n",
              "\n",
              "    .dataframe tbody tr th {\n",
              "        vertical-align: top;\n",
              "    }\n",
              "\n",
              "    .dataframe thead th {\n",
              "        text-align: right;\n",
              "    }\n",
              "</style>\n",
              "<table border=\"1\" class=\"dataframe\">\n",
              "  <thead>\n",
              "    <tr style=\"text-align: right;\">\n",
              "      <th></th>\n",
              "      <th>Compacidad</th>\n",
              "      <th>LongNucleo</th>\n",
              "      <th>AnchoNucleo</th>\n",
              "      <th>Asimetria</th>\n",
              "      <th>LongSurco</th>\n",
              "      <th>Rosa</th>\n",
              "    </tr>\n",
              "  </thead>\n",
              "  <tbody>\n",
              "    <tr>\n",
              "      <th>Compacidad</th>\n",
              "      <td>1.000000</td>\n",
              "      <td>0.367915</td>\n",
              "      <td>0.761635</td>\n",
              "      <td>-0.331471</td>\n",
              "      <td>0.226825</td>\n",
              "      <td>0.375512</td>\n",
              "    </tr>\n",
              "    <tr>\n",
              "      <th>LongNucleo</th>\n",
              "      <td>0.367915</td>\n",
              "      <td>1.000000</td>\n",
              "      <td>0.860415</td>\n",
              "      <td>-0.171562</td>\n",
              "      <td>0.932806</td>\n",
              "      <td>0.831069</td>\n",
              "    </tr>\n",
              "    <tr>\n",
              "      <th>AnchoNucleo</th>\n",
              "      <td>0.761635</td>\n",
              "      <td>0.860415</td>\n",
              "      <td>1.000000</td>\n",
              "      <td>-0.258037</td>\n",
              "      <td>0.749131</td>\n",
              "      <td>0.785913</td>\n",
              "    </tr>\n",
              "    <tr>\n",
              "      <th>Asimetria</th>\n",
              "      <td>-0.331471</td>\n",
              "      <td>-0.171562</td>\n",
              "      <td>-0.258037</td>\n",
              "      <td>1.000000</td>\n",
              "      <td>-0.011079</td>\n",
              "      <td>-0.026117</td>\n",
              "    </tr>\n",
              "    <tr>\n",
              "      <th>LongSurco</th>\n",
              "      <td>0.226825</td>\n",
              "      <td>0.932806</td>\n",
              "      <td>0.749131</td>\n",
              "      <td>-0.011079</td>\n",
              "      <td>1.000000</td>\n",
              "      <td>0.883368</td>\n",
              "    </tr>\n",
              "    <tr>\n",
              "      <th>Rosa</th>\n",
              "      <td>0.375512</td>\n",
              "      <td>0.831069</td>\n",
              "      <td>0.785913</td>\n",
              "      <td>-0.026117</td>\n",
              "      <td>0.883368</td>\n",
              "      <td>1.000000</td>\n",
              "    </tr>\n",
              "  </tbody>\n",
              "</table>\n",
              "</div>"
            ],
            "text/plain": [
              "             Compacidad  LongNucleo  AnchoNucleo  Asimetria  LongSurco   \n",
              "Compacidad     1.000000    0.367915     0.761635  -0.331471   0.226825  \\\n",
              "LongNucleo     0.367915    1.000000     0.860415  -0.171562   0.932806   \n",
              "AnchoNucleo    0.761635    0.860415     1.000000  -0.258037   0.749131   \n",
              "Asimetria     -0.331471   -0.171562    -0.258037   1.000000  -0.011079   \n",
              "LongSurco      0.226825    0.932806     0.749131  -0.011079   1.000000   \n",
              "Rosa           0.375512    0.831069     0.785913  -0.026117   0.883368   \n",
              "\n",
              "                 Rosa  \n",
              "Compacidad   0.375512  \n",
              "LongNucleo   0.831069  \n",
              "AnchoNucleo  0.785913  \n",
              "Asimetria   -0.026117  \n",
              "LongSurco    0.883368  \n",
              "Rosa         1.000000  "
            ]
          },
          "execution_count": 47,
          "metadata": {},
          "output_type": "execute_result"
        }
      ],
      "source": [
        "df_seeds.corr()"
      ]
    },
    {
      "cell_type": "code",
      "execution_count": 48,
      "id": "BWqwplcy4fXd",
      "metadata": {
        "colab": {
          "base_uri": "https://localhost:8080/"
        },
        "id": "BWqwplcy4fXd",
        "outputId": "50ec6677-29c6-46b2-8cf9-0704baea40c7"
      },
      "outputs": [
        {
          "name": "stdout",
          "output_type": "stream",
          "text": [
            "99.05% de efectividad\n"
          ]
        }
      ],
      "source": [
        "# --- utilice random_state=None para que los pesos se inicializacen en forma aleatoria --\n",
        "x = df_seeds.drop(columns='Rosa').to_numpy()\n",
        "t = df_seeds['Rosa'].to_numpy()\n",
        "perceptron = Perceptron(alpha=0.05, n_iter=200, draw=1, title=['X1', 'X2'], random_state=None)\n",
        "perceptron.fit(x, t)\n",
        "y = perceptron.predict(x)\n",
        "accuracy_count = sum(y == t)\n",
        "print('{0:.2f}% de efectividad'.format((accuracy_count/210)*100))"
      ]
    },
    {
      "cell_type": "code",
      "execution_count": 49,
      "id": "LFCvYpZS4BdL",
      "metadata": {
        "id": "LFCvYpZS4BdL"
      },
      "outputs": [
        {
          "name": "stdout",
          "output_type": "stream",
          "text": [
            "Y =  [0 0 0 0 0 0 0 0 1 0 0 0 0 0 0 0 0 0 0 0 0 0 0 0 0 0 0 0 0 0 0 0 0 0 0 0 0\n",
            " 1 0 0 0 0 0 0 0 0 0 0 0 0 0 0 0 0 0 0 0 0 0 0 0 0 0 0 0 0 0 0 0 0 1 1 1 1\n",
            " 1 1 1 1 1 1 1 1 1 1 1 1 1 1 1 1 1 1 1 1 1 1 1 1 1 1 1 1 1 1 1 1 1 1 1 1 1\n",
            " 1 1 1 1 1 1 1 1 1 1 1 1 1 1 1 1 1 1 1 1 1 1 1 1 1 1 1 1 1 0 0 0 0 0 0 0 0\n",
            " 0 0 0 0 0 0 0 0 0 0 0 0 0 0 0 0 0 0 0 0 0 0 0 0 0 0 0 0 0 0 0 0 0 0 0 0 0\n",
            " 0 0 0 0 0 0 0 0 0 0 0 0 0 0 0 0 0 0 0 0 0 0 0 0 0]\n",
            "T =  [0 0 0 0 0 0 0 0 0 0 0 0 0 0 0 0 0 0 0 0 0 0 0 0 0 0 0 0 0 0 0 0 0 0 0 0 0\n",
            " 0 0 0 0 0 0 0 0 0 0 0 0 0 0 0 0 0 0 0 0 0 0 0 0 0 0 0 0 0 0 0 0 0 1 1 1 1\n",
            " 1 1 1 1 1 1 1 1 1 1 1 1 1 1 1 1 1 1 1 1 1 1 1 1 1 1 1 1 1 1 1 1 1 1 1 1 1\n",
            " 1 1 1 1 1 1 1 1 1 1 1 1 1 1 1 1 1 1 1 1 1 1 1 1 1 1 1 1 1 0 0 0 0 0 0 0 0\n",
            " 0 0 0 0 0 0 0 0 0 0 0 0 0 0 0 0 0 0 0 0 0 0 0 0 0 0 0 0 0 0 0 0 0 0 0 0 0\n",
            " 0 0 0 0 0 0 0 0 0 0 0 0 0 0 0 0 0 0 0 0 0 0 0 0 0]\n",
            "aciertos =  208\n",
            "% de aciertos = 99.05 %\n"
          ]
        }
      ],
      "source": [
        "y = perceptron.predict(x)\n",
        "print(\"Y = \", y)\n",
        "print(\"T = \", t)\n",
        "aciertos = sum(y == t)\n",
        "print(\"aciertos = \", aciertos)\n",
        "nAciertos = sum(y == t)\n",
        "print(\"%% de aciertos = %.2f %%\" % (100*nAciertos/x.shape[0]))\n"
      ]
    }
  ],
  "metadata": {
    "colab": {
      "provenance": []
    },
    "kernelspec": {
      "display_name": "Python 3",
      "language": "python",
      "name": "python3"
    },
    "language_info": {
      "codemirror_mode": {
        "name": "ipython",
        "version": 3
      },
      "file_extension": ".py",
      "mimetype": "text/x-python",
      "name": "python",
      "nbconvert_exporter": "python",
      "pygments_lexer": "ipython3",
      "version": "3.10.6"
    }
  },
  "nbformat": 4,
  "nbformat_minor": 5
}
