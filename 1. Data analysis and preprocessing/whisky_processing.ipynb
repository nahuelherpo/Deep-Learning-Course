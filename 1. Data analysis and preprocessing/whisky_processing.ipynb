{
  "cells": [
    {
      "cell_type": "code",
      "execution_count": 2,
      "metadata": {
        "id": "-pEm6Ljkx7ud"
      },
      "outputs": [],
      "source": [
        "import math\n",
        "import pandas # libreria de analisis de datos\n",
        "import numpy # libreria matematica\n",
        "import matplotlib.pyplot as matplot # extension de numpy"
      ]
    },
    {
      "cell_type": "code",
      "execution_count": 3,
      "metadata": {
        "id": "mgFGbyb9ofjl"
      },
      "outputs": [
        {
          "data": {
            "text/html": [
              "<div>\n",
              "<style scoped>\n",
              "    .dataframe tbody tr th:only-of-type {\n",
              "        vertical-align: middle;\n",
              "    }\n",
              "\n",
              "    .dataframe tbody tr th {\n",
              "        vertical-align: top;\n",
              "    }\n",
              "\n",
              "    .dataframe thead th {\n",
              "        text-align: right;\n",
              "    }\n",
              "</style>\n",
              "<table border=\"1\" class=\"dataframe\">\n",
              "  <thead>\n",
              "    <tr style=\"text-align: right;\">\n",
              "      <th></th>\n",
              "      <th>id_Whisky</th>\n",
              "      <th>Precio</th>\n",
              "      <th>Malta</th>\n",
              "      <th>Categoria</th>\n",
              "      <th>Añejamiento</th>\n",
              "      <th>Calidad</th>\n",
              "    </tr>\n",
              "  </thead>\n",
              "  <tbody>\n",
              "    <tr>\n",
              "      <th>0</th>\n",
              "      <td>1</td>\n",
              "      <td>70.0</td>\n",
              "      <td>20.0</td>\n",
              "      <td>Lujo</td>\n",
              "      <td>5.0</td>\n",
              "      <td>3</td>\n",
              "    </tr>\n",
              "    <tr>\n",
              "      <th>1</th>\n",
              "      <td>2</td>\n",
              "      <td>60.0</td>\n",
              "      <td>20.0</td>\n",
              "      <td>Lujo</td>\n",
              "      <td>5.0</td>\n",
              "      <td>2</td>\n",
              "    </tr>\n",
              "    <tr>\n",
              "      <th>2</th>\n",
              "      <td>3</td>\n",
              "      <td>65.0</td>\n",
              "      <td>20.0</td>\n",
              "      <td>Lujo</td>\n",
              "      <td>7.5</td>\n",
              "      <td>2</td>\n",
              "    </tr>\n",
              "    <tr>\n",
              "      <th>3</th>\n",
              "      <td>4</td>\n",
              "      <td>74.0</td>\n",
              "      <td>25.0</td>\n",
              "      <td>Lujo</td>\n",
              "      <td>NaN</td>\n",
              "      <td>2</td>\n",
              "    </tr>\n",
              "    <tr>\n",
              "      <th>4</th>\n",
              "      <td>5</td>\n",
              "      <td>70.0</td>\n",
              "      <td>25.0</td>\n",
              "      <td>Lujo</td>\n",
              "      <td>12.0</td>\n",
              "      <td>3</td>\n",
              "    </tr>\n",
              "  </tbody>\n",
              "</table>\n",
              "</div>"
            ],
            "text/plain": [
              "   id_Whisky  Precio  Malta Categoria  Añejamiento  Calidad\n",
              "0          1    70.0   20.0      Lujo          5.0        3\n",
              "1          2    60.0   20.0      Lujo          5.0        2\n",
              "2          3    65.0   20.0      Lujo          7.5        2\n",
              "3          4    74.0   25.0      Lujo          NaN        2\n",
              "4          5    70.0   25.0      Lujo         12.0        3"
            ]
          },
          "execution_count": 3,
          "metadata": {},
          "output_type": "execute_result"
        }
      ],
      "source": [
        "df_whisky = pandas.read_csv('data/whisky.csv', encoding='ISO-8859-1')\n",
        "df_whisky.head()"
      ]
    },
    {
      "cell_type": "code",
      "execution_count": 4,
      "metadata": {
        "colab": {
          "base_uri": "https://localhost:8080/"
        },
        "id": "ljTLQELWz4Jh",
        "outputId": "55d049b5-f762-4ac1-a8a1-1b1a29a470c0"
      },
      "outputs": [
        {
          "data": {
            "text/plain": [
              "2"
            ]
          },
          "execution_count": 4,
          "metadata": {},
          "output_type": "execute_result"
        }
      ],
      "source": [
        "df_whisky['Precio'].isnull().sum()"
      ]
    },
    {
      "cell_type": "code",
      "execution_count": 5,
      "metadata": {
        "id": "vzGpzhyd1Qhe"
      },
      "outputs": [
        {
          "name": "stdout",
          "output_type": "stream",
          "text": [
            "70.0\n",
            "60.0\n",
            "65.0\n",
            "74.0\n",
            "70.0\n",
            "nan\n",
            "70.0\n",
            "55.0\n",
            "77.0\n",
            "93.0\n",
            "82.0\n",
            "73.0\n",
            "62.0\n",
            "87.0\n",
            "78.0\n",
            "73.0\n",
            "87.0\n",
            "80.0\n",
            "85.0\n",
            "87.0\n",
            "80.0\n",
            "83.0\n",
            "90.0\n",
            "110.0\n",
            "87.0\n",
            "113.0\n",
            "96.0\n",
            "82.0\n",
            "127.0\n",
            "160.0\n",
            "90.0\n",
            "nan\n",
            "100.0\n",
            "100.0\n",
            "95.0\n"
          ]
        }
      ],
      "source": [
        "for i in df_whisky['Precio']:\n",
        "  print(i)"
      ]
    },
    {
      "cell_type": "code",
      "execution_count": 6,
      "metadata": {
        "id": "O9VxolxssGLW"
      },
      "outputs": [
        {
          "name": "stdout",
          "output_type": "stream",
          "text": [
            "86.0\n"
          ]
        }
      ],
      "source": [
        "#CALCULO LA MEDIA\n",
        "sum = 0\n",
        "count = 0\n",
        "for p in df_whisky['Precio']:\n",
        "  if (math.isnan(p) != True):\n",
        "    count += 1\n",
        "    sum += p\n",
        "media = float(int(sum/count))\n",
        "print(media)"
      ]
    },
    {
      "cell_type": "code",
      "execution_count": 7,
      "metadata": {
        "id": "4NG6DG000nXe"
      },
      "outputs": [],
      "source": [
        "# REMPLAZO VALORES NAN EN PRECIO POR LA MEDIA CALCULADA\n",
        "df_whisky.replace({'Precio' : {numpy.nan : media}}, inplace=True)"
      ]
    },
    {
      "cell_type": "code",
      "execution_count": 8,
      "metadata": {
        "colab": {
          "base_uri": "https://localhost:8080/"
        },
        "id": "1zzwXmMQPXB7",
        "outputId": "72cc8462-5b17-4e9e-8794-9a71d5d17287"
      },
      "outputs": [
        {
          "name": "stdout",
          "output_type": "stream",
          "text": [
            "3.177855476905576 1.617802197617893\n"
          ]
        }
      ],
      "source": [
        "# CALCULO LA DISPERSION ENTRE Q1-Q2 Y Q2-Q3\n",
        "q1_q2 = []\n",
        "q2_q3 = []\n",
        "for i in df_whisky['Precio']:\n",
        "  if (i >= 73.5) and (i <= 85):\n",
        "    q1_q2.append(i)\n",
        "for i in df_whisky['Precio']:\n",
        "  if (i >= 85) and (i <= 91.5):\n",
        "    q2_q3.append(i)\n",
        "print(numpy.std(numpy.array(q1_q2)), numpy.std(numpy.array(q2_q3)))"
      ]
    },
    {
      "cell_type": "code",
      "execution_count": 9,
      "metadata": {
        "id": "TeE-61nD1ZwC"
      },
      "outputs": [
        {
          "name": "stdout",
          "output_type": "stream",
          "text": [
            "70.0\n",
            "60.0\n",
            "65.0\n",
            "74.0\n",
            "70.0\n",
            "86.0\n",
            "70.0\n",
            "55.0\n",
            "77.0\n",
            "93.0\n",
            "82.0\n",
            "73.0\n",
            "62.0\n",
            "87.0\n",
            "78.0\n",
            "73.0\n",
            "87.0\n",
            "80.0\n",
            "85.0\n",
            "87.0\n",
            "80.0\n",
            "83.0\n",
            "90.0\n",
            "110.0\n",
            "87.0\n",
            "113.0\n",
            "96.0\n",
            "82.0\n",
            "127.0\n",
            "160.0\n",
            "90.0\n",
            "86.0\n",
            "100.0\n",
            "100.0\n",
            "95.0\n"
          ]
        }
      ],
      "source": [
        "# IMPRIMO COLUMNA PARA VERIFICAR\n",
        "for i in df_whisky['Precio']:\n",
        "  print(i)"
      ]
    },
    {
      "cell_type": "code",
      "execution_count": 10,
      "metadata": {
        "colab": {
          "base_uri": "https://localhost:8080/"
        },
        "id": "zCgrRdZh2613",
        "outputId": "3d9e9591-784e-4d3b-f341-96ee580d6743"
      },
      "outputs": [
        {
          "data": {
            "text/plain": [
              "count     35.000000\n",
              "mean      86.085714\n",
              "std       19.765346\n",
              "min       55.000000\n",
              "25%       73.500000\n",
              "50%       85.000000\n",
              "75%       91.500000\n",
              "max      160.000000\n",
              "Name: Precio, dtype: float64"
            ]
          },
          "execution_count": 10,
          "metadata": {},
          "output_type": "execute_result"
        }
      ],
      "source": [
        "# MEDIDAS ESTADISTICAS\n",
        "df_whisky['Precio'].describe()"
      ]
    },
    {
      "cell_type": "code",
      "execution_count": 11,
      "metadata": {
        "colab": {
          "base_uri": "https://localhost:8080/",
          "height": 282
        },
        "id": "wehUxtpO3xl5",
        "outputId": "78b117fc-f99e-4678-b0f4-dbd4441b791a"
      },
      "outputs": [
        {
          "data": {
            "text/plain": [
              "<Axes: >"
            ]
          },
          "execution_count": 11,
          "metadata": {},
          "output_type": "execute_result"
        },
        {
          "data": {
            "image/png": "[encoded data removed]",
            "text/plain": [
              "<Figure size 640x480 with 1 Axes>"
            ]
          },
          "metadata": {},
          "output_type": "display_data"
        }
      ],
      "source": [
        "df_whisky.boxplot(column=['Precio'], vert=False)"
      ]
    },
    {
      "cell_type": "code",
      "execution_count": 12,
      "metadata": {
        "id": "ORxGBIEbaUBG"
      },
      "outputs": [],
      "source": [
        "df_whisky['Categoria'] = df_whisky['Categoria'].replace('lujo', 'Lujo').replace('estandar', 'Estandar')"
      ]
    },
    {
      "cell_type": "code",
      "execution_count": 13,
      "metadata": {
        "colab": {
          "base_uri": "https://localhost:8080/",
          "height": 282
        },
        "id": "1zTfUtXgR09U",
        "outputId": "7507f7c9-115a-40bc-9d2b-72fac124d6ab"
      },
      "outputs": [
        {
          "data": {
            "image/png": "[encoded data removed]",
            "text/plain": [
              "<Figure size 640x480 with 1 Axes>"
            ]
          },
          "metadata": {},
          "output_type": "display_data"
        }
      ],
      "source": [
        "#DIAGRAMA DE BARRAS DEL ATRIBUTO PRODUCTO Y MODA\n",
        "product_list = pandas.value_counts(df_whisky['Categoria'])\n",
        "matplot.figure()\n",
        "matplot.bar(numpy.arange(len(product_list)), product_list)\n",
        "matplot.title('Categoria')\n",
        "matplot.ylabel('Frequency')\n",
        "matplot.xticks(numpy.arange(len(product_list)), product_list.index)\n",
        "matplot.show()"
      ]
    },
    {
      "cell_type": "code",
      "execution_count": 14,
      "metadata": {
        "colab": {
          "base_uri": "https://localhost:8080/",
          "height": 175
        },
        "id": "WffmWNzWdoDW",
        "outputId": "efe8acd4-5a5b-4b13-edbe-2a3837aff268"
      },
      "outputs": [
        {
          "data": {
            "text/html": [
              "<div>\n",
              "<style scoped>\n",
              "    .dataframe tbody tr th:only-of-type {\n",
              "        vertical-align: middle;\n",
              "    }\n",
              "\n",
              "    .dataframe tbody tr th {\n",
              "        vertical-align: top;\n",
              "    }\n",
              "\n",
              "    .dataframe thead th {\n",
              "        text-align: right;\n",
              "    }\n",
              "</style>\n",
              "<table border=\"1\" class=\"dataframe\">\n",
              "  <thead>\n",
              "    <tr style=\"text-align: right;\">\n",
              "      <th></th>\n",
              "      <th>Precio</th>\n",
              "      <th>Malta</th>\n",
              "      <th>Añejamiento</th>\n",
              "      <th>Calidad</th>\n",
              "    </tr>\n",
              "  </thead>\n",
              "  <tbody>\n",
              "    <tr>\n",
              "      <th>Precio</th>\n",
              "      <td>1.000000</td>\n",
              "      <td>0.649563</td>\n",
              "      <td>0.481021</td>\n",
              "      <td>0.282130</td>\n",
              "    </tr>\n",
              "    <tr>\n",
              "      <th>Malta</th>\n",
              "      <td>0.649563</td>\n",
              "      <td>1.000000</td>\n",
              "      <td>0.379150</td>\n",
              "      <td>0.241101</td>\n",
              "    </tr>\n",
              "    <tr>\n",
              "      <th>Añejamiento</th>\n",
              "      <td>0.481021</td>\n",
              "      <td>0.379150</td>\n",
              "      <td>1.000000</td>\n",
              "      <td>0.275765</td>\n",
              "    </tr>\n",
              "    <tr>\n",
              "      <th>Calidad</th>\n",
              "      <td>0.282130</td>\n",
              "      <td>0.241101</td>\n",
              "      <td>0.275765</td>\n",
              "      <td>1.000000</td>\n",
              "    </tr>\n",
              "  </tbody>\n",
              "</table>\n",
              "</div>"
            ],
            "text/plain": [
              "               Precio     Malta  Añejamiento   Calidad\n",
              "Precio       1.000000  0.649563     0.481021  0.282130\n",
              "Malta        0.649563  1.000000     0.379150  0.241101\n",
              "Añejamiento  0.481021  0.379150     1.000000  0.275765\n",
              "Calidad      0.282130  0.241101     0.275765  1.000000"
            ]
          },
          "execution_count": 14,
          "metadata": {},
          "output_type": "execute_result"
        }
      ],
      "source": [
        "df_whisky.head()\n",
        "df_temp = df_whisky.drop(columns=['id_Whisky', 'Categoria'])\n",
        "df_temp.corr()"
      ]
    },
    {
      "cell_type": "code",
      "execution_count": 15,
      "metadata": {
        "colab": {
          "base_uri": "https://localhost:8080/"
        },
        "id": "1uQ_-M34kHZE",
        "outputId": "1d61dbc3-9ef9-4766-f5e9-ead56464b1c9"
      },
      "outputs": [
        {
          "name": "stdout",
          "output_type": "stream",
          "text": [
            "   Altura  Normalizacion\n",
            "0    1.62       0.000000\n",
            "1    1.65       0.157895\n",
            "2    1.70       0.421053\n",
            "3    1.70       0.421053\n",
            "4    1.73       0.578947\n",
            "5    1.74       0.631579\n",
            "6    1.80       0.947368\n",
            "7    1.81       1.000000\n"
          ]
        }
      ],
      "source": [
        "arreglo = numpy.array([1.62, 1.65, 1.70, 1.70, 1.73, 1.74, 1.80, 1.81])\n",
        "df = pandas.DataFrame({'Altura' : arreglo, 'Normalizacion' : arreglo})\n",
        "df['Normalizacion'] = (df['Normalizacion']-df['Normalizacion'].min())/(df['Normalizacion'].max()-df['Normalizacion'].min())\n",
        "print(df.to_string())"
      ]
    },
    {
      "cell_type": "code",
      "execution_count": 18,
      "metadata": {
        "colab": {
          "base_uri": "https://localhost:8080/",
          "height": 282
        },
        "id": "9WCBc2TjlmY8",
        "outputId": "b93b5154-fb80-4f41-ae82-44543c9a3fdb"
      },
      "outputs": [
        {
          "data": {
            "text/plain": [
              "<Axes: >"
            ]
          },
          "execution_count": 18,
          "metadata": {},
          "output_type": "execute_result"
        }
      ],
      "source": [
        "df.boxplot(column='Normalizacion', vert=False)"
      ]
    }
  ],
  "metadata": {
    "colab": {
      "provenance": []
    },
    "kernelspec": {
      "display_name": "Python 3",
      "name": "python3"
    },
    "language_info": {
      "codemirror_mode": {
        "name": "ipython",
        "version": 3
      },
      "file_extension": ".py",
      "mimetype": "text/x-python",
      "name": "python",
      "nbconvert_exporter": "python",
      "pygments_lexer": "ipython3",
      "version": "3.10.6"
    }
  },
  "nbformat": 4,
  "nbformat_minor": 0
}
