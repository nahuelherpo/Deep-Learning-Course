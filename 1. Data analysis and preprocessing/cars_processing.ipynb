{
  "cells": [
    {
      "attachments": {},
      "cell_type": "markdown",
      "id": "70cfae07",
      "metadata": {
        "id": "70cfae07"
      },
      "source": [
        "**SETUP**"
      ]
    },
    {
      "cell_type": "code",
      "execution_count": 1,
      "id": "-pEm6Ljkx7ud",
      "metadata": {
        "id": "-pEm6Ljkx7ud"
      },
      "outputs": [],
      "source": [
        "import math\n",
        "import pandas # libreria de analisis de datos\n",
        "import numpy # libreria matematica\n",
        "import matplotlib.pyplot as matplot # extension de numpy"
      ]
    },
    {
      "cell_type": "code",
      "execution_count": 2,
      "id": "c6130439",
      "metadata": {
        "id": "c6130439"
      },
      "outputs": [],
      "source": [
        "df_autos = pandas.read_csv('data/cars.csv')"
      ]
    },
    {
      "cell_type": "code",
      "execution_count": 3,
      "id": "kJ-tWN7DydqJ",
      "metadata": {
        "id": "kJ-tWN7DydqJ"
      },
      "outputs": [
        {
          "name": "stdout",
          "output_type": "stream",
          "text": [
            "   normalized-losses         make fuel-type aspiration num-of-doors   \n",
            "0                NaN  alfa-romero       gas        std          two  \\\n",
            "1                NaN  alfa-romero       gas        std          two   \n",
            "2                NaN  alfa-romero       gas        std          two   \n",
            "3              164.0         audi       gas        std         four   \n",
            "4              164.0         audi       gas        std         four   \n",
            "\n",
            "    body-style drive-wheels engine-location  wheel-base  length  ...   \n",
            "0  convertible          rwd           front        88.6   168.8  ...  \\\n",
            "1  convertible          rwd           front        88.6   168.8  ...   \n",
            "2    hatchback          rwd           front        94.5   171.2  ...   \n",
            "3        sedan          fwd           front        99.8   176.6  ...   \n",
            "4        sedan          4wd           front        99.4   176.6  ...   \n",
            "\n",
            "   fuel-system  bore  stroke compression-ratio horsepower  peak-rpm city-mpg   \n",
            "0         mpfi  3.47    2.68               9.0      111.0    5000.0       21  \\\n",
            "1         mpfi  3.47    2.68               9.0      111.0    5000.0       21   \n",
            "2         mpfi  2.68    3.47               9.0      154.0    5000.0       19   \n",
            "3         mpfi  3.19    3.40              10.0      102.0    5500.0       24   \n",
            "4         mpfi  3.19    3.40               8.0      115.0    5500.0       18   \n",
            "\n",
            "   highway-mpg    price  symboling  \n",
            "0           27  13495.0          3  \n",
            "1           27  16500.0          3  \n",
            "2           26  16500.0          1  \n",
            "3           30  13950.0          2  \n",
            "4           22  17450.0          2  \n",
            "\n",
            "[5 rows x 26 columns]\n"
          ]
        }
      ],
      "source": [
        "print(df_autos.head()) # print first five dataframe rows"
      ]
    },
    {
      "cell_type": "code",
      "execution_count": 4,
      "id": "tXi43SK6yamw",
      "metadata": {
        "colab": {
          "base_uri": "https://localhost:8080/"
        },
        "id": "tXi43SK6yamw",
        "outputId": "f56ad4ff-390f-4933-f392-df0d5aa31843"
      },
      "outputs": [
        {
          "name": "stdout",
          "output_type": "stream",
          "text": [
            "normalized-losses    float64\n",
            "make                  object\n",
            "fuel-type             object\n",
            "aspiration            object\n",
            "num-of-doors          object\n",
            "body-style            object\n",
            "drive-wheels          object\n",
            "engine-location       object\n",
            "wheel-base           float64\n",
            "length               float64\n",
            "width                float64\n",
            "height               float64\n",
            "curb-weight            int64\n",
            "engine-type           object\n",
            "num-of-cylinders      object\n",
            "engine-size            int64\n",
            "fuel-system           object\n",
            "bore                 float64\n",
            "stroke               float64\n",
            "compression-ratio    float64\n",
            "horsepower           float64\n",
            "peak-rpm             float64\n",
            "city-mpg               int64\n",
            "highway-mpg            int64\n",
            "price                float64\n",
            "symboling              int64\n",
            "dtype: object\n"
          ]
        }
      ],
      "source": [
        "print(df_autos.dtypes) # print data types of dataframe fields"
      ]
    },
    {
      "cell_type": "code",
      "execution_count": 5,
      "id": "8bcc6b8f",
      "metadata": {
        "id": "8bcc6b8f"
      },
      "outputs": [
        {
          "data": {
            "text/html": [
              "<div>\n",
              "<style scoped>\n",
              "    .dataframe tbody tr th:only-of-type {\n",
              "        vertical-align: middle;\n",
              "    }\n",
              "\n",
              "    .dataframe tbody tr th {\n",
              "        vertical-align: top;\n",
              "    }\n",
              "\n",
              "    .dataframe thead th {\n",
              "        text-align: right;\n",
              "    }\n",
              "</style>\n",
              "<table border=\"1\" class=\"dataframe\">\n",
              "  <thead>\n",
              "    <tr style=\"text-align: right;\">\n",
              "      <th></th>\n",
              "      <th>normalized-losses</th>\n",
              "      <th>wheel-base</th>\n",
              "      <th>length</th>\n",
              "      <th>width</th>\n",
              "      <th>height</th>\n",
              "      <th>curb-weight</th>\n",
              "      <th>engine-size</th>\n",
              "      <th>bore</th>\n",
              "      <th>stroke</th>\n",
              "      <th>compression-ratio</th>\n",
              "      <th>horsepower</th>\n",
              "      <th>peak-rpm</th>\n",
              "      <th>city-mpg</th>\n",
              "      <th>highway-mpg</th>\n",
              "      <th>price</th>\n",
              "      <th>symboling</th>\n",
              "    </tr>\n",
              "  </thead>\n",
              "  <tbody>\n",
              "    <tr>\n",
              "      <th>count</th>\n",
              "      <td>164.000000</td>\n",
              "      <td>205.000000</td>\n",
              "      <td>205.000000</td>\n",
              "      <td>205.000000</td>\n",
              "      <td>205.000000</td>\n",
              "      <td>205.000000</td>\n",
              "      <td>205.000000</td>\n",
              "      <td>201.000000</td>\n",
              "      <td>201.000000</td>\n",
              "      <td>205.000000</td>\n",
              "      <td>203.000000</td>\n",
              "      <td>203.000000</td>\n",
              "      <td>205.000000</td>\n",
              "      <td>205.000000</td>\n",
              "      <td>201.000000</td>\n",
              "      <td>205.000000</td>\n",
              "    </tr>\n",
              "    <tr>\n",
              "      <th>mean</th>\n",
              "      <td>122.000000</td>\n",
              "      <td>98.756585</td>\n",
              "      <td>174.049268</td>\n",
              "      <td>65.907805</td>\n",
              "      <td>53.724878</td>\n",
              "      <td>2555.565854</td>\n",
              "      <td>126.907317</td>\n",
              "      <td>3.329751</td>\n",
              "      <td>3.255423</td>\n",
              "      <td>10.142537</td>\n",
              "      <td>104.256158</td>\n",
              "      <td>5125.369458</td>\n",
              "      <td>25.219512</td>\n",
              "      <td>30.751220</td>\n",
              "      <td>13207.129353</td>\n",
              "      <td>0.834146</td>\n",
              "    </tr>\n",
              "    <tr>\n",
              "      <th>std</th>\n",
              "      <td>35.442168</td>\n",
              "      <td>6.021776</td>\n",
              "      <td>12.337289</td>\n",
              "      <td>2.145204</td>\n",
              "      <td>2.443522</td>\n",
              "      <td>520.680204</td>\n",
              "      <td>41.642693</td>\n",
              "      <td>0.273539</td>\n",
              "      <td>0.316717</td>\n",
              "      <td>3.972040</td>\n",
              "      <td>39.714369</td>\n",
              "      <td>479.334560</td>\n",
              "      <td>6.542142</td>\n",
              "      <td>6.886443</td>\n",
              "      <td>7947.066342</td>\n",
              "      <td>1.245307</td>\n",
              "    </tr>\n",
              "    <tr>\n",
              "      <th>min</th>\n",
              "      <td>65.000000</td>\n",
              "      <td>86.600000</td>\n",
              "      <td>141.100000</td>\n",
              "      <td>60.300000</td>\n",
              "      <td>47.800000</td>\n",
              "      <td>1488.000000</td>\n",
              "      <td>61.000000</td>\n",
              "      <td>2.540000</td>\n",
              "      <td>2.070000</td>\n",
              "      <td>7.000000</td>\n",
              "      <td>48.000000</td>\n",
              "      <td>4150.000000</td>\n",
              "      <td>13.000000</td>\n",
              "      <td>16.000000</td>\n",
              "      <td>5118.000000</td>\n",
              "      <td>-2.000000</td>\n",
              "    </tr>\n",
              "    <tr>\n",
              "      <th>25%</th>\n",
              "      <td>94.000000</td>\n",
              "      <td>94.500000</td>\n",
              "      <td>166.300000</td>\n",
              "      <td>64.100000</td>\n",
              "      <td>52.000000</td>\n",
              "      <td>2145.000000</td>\n",
              "      <td>97.000000</td>\n",
              "      <td>3.150000</td>\n",
              "      <td>3.110000</td>\n",
              "      <td>8.600000</td>\n",
              "      <td>70.000000</td>\n",
              "      <td>4800.000000</td>\n",
              "      <td>19.000000</td>\n",
              "      <td>25.000000</td>\n",
              "      <td>7775.000000</td>\n",
              "      <td>0.000000</td>\n",
              "    </tr>\n",
              "    <tr>\n",
              "      <th>50%</th>\n",
              "      <td>115.000000</td>\n",
              "      <td>97.000000</td>\n",
              "      <td>173.200000</td>\n",
              "      <td>65.500000</td>\n",
              "      <td>54.100000</td>\n",
              "      <td>2414.000000</td>\n",
              "      <td>120.000000</td>\n",
              "      <td>3.310000</td>\n",
              "      <td>3.290000</td>\n",
              "      <td>9.000000</td>\n",
              "      <td>95.000000</td>\n",
              "      <td>5200.000000</td>\n",
              "      <td>24.000000</td>\n",
              "      <td>30.000000</td>\n",
              "      <td>10295.000000</td>\n",
              "      <td>1.000000</td>\n",
              "    </tr>\n",
              "    <tr>\n",
              "      <th>75%</th>\n",
              "      <td>150.000000</td>\n",
              "      <td>102.400000</td>\n",
              "      <td>183.100000</td>\n",
              "      <td>66.900000</td>\n",
              "      <td>55.500000</td>\n",
              "      <td>2935.000000</td>\n",
              "      <td>141.000000</td>\n",
              "      <td>3.590000</td>\n",
              "      <td>3.410000</td>\n",
              "      <td>9.400000</td>\n",
              "      <td>116.000000</td>\n",
              "      <td>5500.000000</td>\n",
              "      <td>30.000000</td>\n",
              "      <td>34.000000</td>\n",
              "      <td>16500.000000</td>\n",
              "      <td>2.000000</td>\n",
              "    </tr>\n",
              "    <tr>\n",
              "      <th>max</th>\n",
              "      <td>256.000000</td>\n",
              "      <td>120.900000</td>\n",
              "      <td>208.100000</td>\n",
              "      <td>72.300000</td>\n",
              "      <td>59.800000</td>\n",
              "      <td>4066.000000</td>\n",
              "      <td>326.000000</td>\n",
              "      <td>3.940000</td>\n",
              "      <td>4.170000</td>\n",
              "      <td>23.000000</td>\n",
              "      <td>288.000000</td>\n",
              "      <td>6600.000000</td>\n",
              "      <td>49.000000</td>\n",
              "      <td>54.000000</td>\n",
              "      <td>45400.000000</td>\n",
              "      <td>3.000000</td>\n",
              "    </tr>\n",
              "  </tbody>\n",
              "</table>\n",
              "</div>"
            ],
            "text/plain": [
              "       normalized-losses  wheel-base      length       width      height   \n",
              "count         164.000000  205.000000  205.000000  205.000000  205.000000  \\\n",
              "mean          122.000000   98.756585  174.049268   65.907805   53.724878   \n",
              "std            35.442168    6.021776   12.337289    2.145204    2.443522   \n",
              "min            65.000000   86.600000  141.100000   60.300000   47.800000   \n",
              "25%            94.000000   94.500000  166.300000   64.100000   52.000000   \n",
              "50%           115.000000   97.000000  173.200000   65.500000   54.100000   \n",
              "75%           150.000000  102.400000  183.100000   66.900000   55.500000   \n",
              "max           256.000000  120.900000  208.100000   72.300000   59.800000   \n",
              "\n",
              "       curb-weight  engine-size        bore      stroke  compression-ratio   \n",
              "count   205.000000   205.000000  201.000000  201.000000         205.000000  \\\n",
              "mean   2555.565854   126.907317    3.329751    3.255423          10.142537   \n",
              "std     520.680204    41.642693    0.273539    0.316717           3.972040   \n",
              "min    1488.000000    61.000000    2.540000    2.070000           7.000000   \n",
              "25%    2145.000000    97.000000    3.150000    3.110000           8.600000   \n",
              "50%    2414.000000   120.000000    3.310000    3.290000           9.000000   \n",
              "75%    2935.000000   141.000000    3.590000    3.410000           9.400000   \n",
              "max    4066.000000   326.000000    3.940000    4.170000          23.000000   \n",
              "\n",
              "       horsepower     peak-rpm    city-mpg  highway-mpg         price   \n",
              "count  203.000000   203.000000  205.000000   205.000000    201.000000  \\\n",
              "mean   104.256158  5125.369458   25.219512    30.751220  13207.129353   \n",
              "std     39.714369   479.334560    6.542142     6.886443   7947.066342   \n",
              "min     48.000000  4150.000000   13.000000    16.000000   5118.000000   \n",
              "25%     70.000000  4800.000000   19.000000    25.000000   7775.000000   \n",
              "50%     95.000000  5200.000000   24.000000    30.000000  10295.000000   \n",
              "75%    116.000000  5500.000000   30.000000    34.000000  16500.000000   \n",
              "max    288.000000  6600.000000   49.000000    54.000000  45400.000000   \n",
              "\n",
              "        symboling  \n",
              "count  205.000000  \n",
              "mean     0.834146  \n",
              "std      1.245307  \n",
              "min     -2.000000  \n",
              "25%      0.000000  \n",
              "50%      1.000000  \n",
              "75%      2.000000  \n",
              "max      3.000000  "
            ]
          },
          "execution_count": 5,
          "metadata": {},
          "output_type": "execute_result"
        }
      ],
      "source": [
        "# -- METADATOS –\n",
        "df_autos.describe()"
      ]
    },
    {
      "cell_type": "code",
      "execution_count": 6,
      "id": "5905ce0b",
      "metadata": {
        "id": "5905ce0b"
      },
      "outputs": [
        {
          "data": {
            "text/html": [
              "<div>\n",
              "<style scoped>\n",
              "    .dataframe tbody tr th:only-of-type {\n",
              "        vertical-align: middle;\n",
              "    }\n",
              "\n",
              "    .dataframe tbody tr th {\n",
              "        vertical-align: top;\n",
              "    }\n",
              "\n",
              "    .dataframe thead th {\n",
              "        text-align: right;\n",
              "    }\n",
              "</style>\n",
              "<table border=\"1\" class=\"dataframe\">\n",
              "  <thead>\n",
              "    <tr style=\"text-align: right;\">\n",
              "      <th></th>\n",
              "      <th>make</th>\n",
              "      <th>fuel-type</th>\n",
              "      <th>aspiration</th>\n",
              "      <th>num-of-doors</th>\n",
              "      <th>body-style</th>\n",
              "      <th>drive-wheels</th>\n",
              "      <th>engine-location</th>\n",
              "      <th>engine-type</th>\n",
              "      <th>num-of-cylinders</th>\n",
              "      <th>fuel-system</th>\n",
              "    </tr>\n",
              "  </thead>\n",
              "  <tbody>\n",
              "    <tr>\n",
              "      <th>count</th>\n",
              "      <td>205</td>\n",
              "      <td>205</td>\n",
              "      <td>205</td>\n",
              "      <td>203</td>\n",
              "      <td>205</td>\n",
              "      <td>205</td>\n",
              "      <td>205</td>\n",
              "      <td>205</td>\n",
              "      <td>205</td>\n",
              "      <td>205</td>\n",
              "    </tr>\n",
              "    <tr>\n",
              "      <th>unique</th>\n",
              "      <td>22</td>\n",
              "      <td>2</td>\n",
              "      <td>2</td>\n",
              "      <td>2</td>\n",
              "      <td>5</td>\n",
              "      <td>3</td>\n",
              "      <td>2</td>\n",
              "      <td>7</td>\n",
              "      <td>7</td>\n",
              "      <td>8</td>\n",
              "    </tr>\n",
              "    <tr>\n",
              "      <th>top</th>\n",
              "      <td>toyota</td>\n",
              "      <td>gas</td>\n",
              "      <td>std</td>\n",
              "      <td>four</td>\n",
              "      <td>sedan</td>\n",
              "      <td>fwd</td>\n",
              "      <td>front</td>\n",
              "      <td>ohc</td>\n",
              "      <td>four</td>\n",
              "      <td>mpfi</td>\n",
              "    </tr>\n",
              "    <tr>\n",
              "      <th>freq</th>\n",
              "      <td>32</td>\n",
              "      <td>185</td>\n",
              "      <td>168</td>\n",
              "      <td>114</td>\n",
              "      <td>96</td>\n",
              "      <td>120</td>\n",
              "      <td>202</td>\n",
              "      <td>148</td>\n",
              "      <td>159</td>\n",
              "      <td>94</td>\n",
              "    </tr>\n",
              "  </tbody>\n",
              "</table>\n",
              "</div>"
            ],
            "text/plain": [
              "          make fuel-type aspiration num-of-doors body-style drive-wheels   \n",
              "count      205       205        205          203        205          205  \\\n",
              "unique      22         2          2            2          5            3   \n",
              "top     toyota       gas        std         four      sedan          fwd   \n",
              "freq        32       185        168          114         96          120   \n",
              "\n",
              "       engine-location engine-type num-of-cylinders fuel-system  \n",
              "count              205         205              205         205  \n",
              "unique               2           7                7           8  \n",
              "top              front         ohc             four        mpfi  \n",
              "freq               202         148              159          94  "
            ]
          },
          "execution_count": 6,
          "metadata": {},
          "output_type": "execute_result"
        }
      ],
      "source": [
        "# Sólo los atributos categóricos\n",
        "df_autos.describe(include=[object])"
      ]
    },
    {
      "attachments": {},
      "cell_type": "markdown",
      "id": "LVUoLBAdnPY8",
      "metadata": {
        "id": "LVUoLBAdnPY8"
      },
      "source": [
        "**PREPROCESAMIENTO DE DATOS**"
      ]
    },
    {
      "attachments": {},
      "cell_type": "markdown",
      "id": "geTdefxqoiez",
      "metadata": {
        "id": "geTdefxqoiez"
      },
      "source": [
        "**horsepower**\n",
        "\n"
      ]
    },
    {
      "cell_type": "code",
      "execution_count": 7,
      "id": "yE4yHT0Gkb_m",
      "metadata": {
        "id": "yE4yHT0Gkb_m"
      },
      "outputs": [
        {
          "data": {
            "text/plain": [
              "horsepower\n",
              "68.0     19\n",
              "70.0     11\n",
              "69.0     10\n",
              "116.0     9\n",
              "110.0     8\n",
              "95.0      7\n",
              "114.0     6\n",
              "160.0     6\n",
              "101.0     6\n",
              "62.0      6\n",
              "88.0      6\n",
              "145.0     5\n",
              "76.0      5\n",
              "97.0      5\n",
              "82.0      5\n",
              "84.0      5\n",
              "102.0     5\n",
              "92.0      4\n",
              "111.0     4\n",
              "123.0     4\n",
              "86.0      4\n",
              "207.0     3\n",
              "182.0     3\n",
              "90.0      3\n",
              "121.0     3\n",
              "152.0     3\n",
              "85.0      3\n",
              "73.0      3\n",
              "161.0     2\n",
              "94.0      2\n",
              "56.0      2\n",
              "112.0     2\n",
              "184.0     2\n",
              "155.0     2\n",
              "156.0     2\n",
              "52.0      2\n",
              "100.0     2\n",
              "162.0     2\n",
              "176.0     2\n",
              "140.0     1\n",
              "115.0     1\n",
              "134.0     1\n",
              "78.0      1\n",
              "48.0      1\n",
              "288.0     1\n",
              "143.0     1\n",
              "142.0     1\n",
              "200.0     1\n",
              "58.0      1\n",
              "55.0      1\n",
              "60.0      1\n",
              "175.0     1\n",
              "154.0     1\n",
              "72.0      1\n",
              "120.0     1\n",
              "64.0      1\n",
              "135.0     1\n",
              "262.0     1\n",
              "106.0     1\n",
              "Name: count, dtype: int64"
            ]
          },
          "execution_count": 7,
          "metadata": {},
          "output_type": "execute_result"
        }
      ],
      "source": [
        "pandas.value_counts(df_autos['horsepower'])"
      ]
    },
    {
      "cell_type": "code",
      "execution_count": 8,
      "id": "G2RKLafT3CO6",
      "metadata": {
        "id": "G2RKLafT3CO6"
      },
      "outputs": [
        {
          "name": "stdout",
          "output_type": "stream",
          "text": [
            "Hoursepower (before): [111. 154. 102. 115. 110. 140. 160. 101. 121. 182.  48.  70.  68.  88.\n",
            " 145.  58.  76.  60.  86. 100.  78.  90. 176. 262. 135.  84.  64. 120.\n",
            "  72. 123. 155. 184. 175. 116.  69.  55.  97. 152. 200.  95. 142. 143.\n",
            " 207. 288.  nan  73.  82.  94.  62.  56. 112.  92. 161. 156.  52.  85.\n",
            " 114. 162. 134. 106.]\n"
          ]
        },
        {
          "ename": "IntCastingNaNError",
          "evalue": "Cannot convert non-finite values (NA or inf) to integer: Error while type casting for column 'horsepower'",
          "output_type": "error",
          "traceback": [
            "\u001b[0;31m---------------------------------------------------------------------------\u001b[0m",
            "\u001b[0;31mIntCastingNaNError\u001b[0m                        Traceback (most recent call last)",
            "Cell \u001b[0;32mIn[8], line 5\u001b[0m\n\u001b[1;32m      3\u001b[0m \u001b[39m# ELIMINO LAS TUPLAS CON ?\u001b[39;00m\n\u001b[1;32m      4\u001b[0m df_autos \u001b[39m=\u001b[39m df_autos\u001b[39m.\u001b[39mdrop(df_autos[df_autos\u001b[39m.\u001b[39mhorsepower \u001b[39m==\u001b[39m \u001b[39m'\u001b[39m\u001b[39m?\u001b[39m\u001b[39m'\u001b[39m]\u001b[39m.\u001b[39mindex)\n\u001b[0;32m----> 5\u001b[0m df_autos \u001b[39m=\u001b[39m df_autos\u001b[39m.\u001b[39;49mastype({\u001b[39m'\u001b[39;49m\u001b[39mhorsepower\u001b[39;49m\u001b[39m'\u001b[39;49m:\u001b[39m'\u001b[39;49m\u001b[39mint32\u001b[39;49m\u001b[39m'\u001b[39;49m})\n\u001b[1;32m      6\u001b[0m \u001b[39mprint\u001b[39m(\u001b[39m'\u001b[39m\u001b[39mHoursepower (after):\u001b[39m\u001b[39m'\u001b[39m, df_autos\u001b[39m.\u001b[39mhorsepower\u001b[39m.\u001b[39munique())\n",
            "File \u001b[0;32m~/.local/lib/python3.10/site-packages/pandas/core/generic.py:6305\u001b[0m, in \u001b[0;36mNDFrame.astype\u001b[0;34m(self, dtype, copy, errors)\u001b[0m\n\u001b[1;32m   6303\u001b[0m \u001b[39melse\u001b[39;00m:\n\u001b[1;32m   6304\u001b[0m     \u001b[39mtry\u001b[39;00m:\n\u001b[0;32m-> 6305\u001b[0m         res_col \u001b[39m=\u001b[39m col\u001b[39m.\u001b[39;49mastype(dtype\u001b[39m=\u001b[39;49mcdt, copy\u001b[39m=\u001b[39;49mcopy, errors\u001b[39m=\u001b[39;49merrors)\n\u001b[1;32m   6306\u001b[0m     \u001b[39mexcept\u001b[39;00m \u001b[39mValueError\u001b[39;00m \u001b[39mas\u001b[39;00m ex:\n\u001b[1;32m   6307\u001b[0m         ex\u001b[39m.\u001b[39margs \u001b[39m=\u001b[39m (\n\u001b[1;32m   6308\u001b[0m             \u001b[39mf\u001b[39m\u001b[39m\"\u001b[39m\u001b[39m{\u001b[39;00mex\u001b[39m}\u001b[39;00m\u001b[39m: Error while type casting for column \u001b[39m\u001b[39m'\u001b[39m\u001b[39m{\u001b[39;00mcol_name\u001b[39m}\u001b[39;00m\u001b[39m'\u001b[39m\u001b[39m\"\u001b[39m,\n\u001b[1;32m   6309\u001b[0m         )\n",
            "File \u001b[0;32m~/.local/lib/python3.10/site-packages/pandas/core/generic.py:6324\u001b[0m, in \u001b[0;36mNDFrame.astype\u001b[0;34m(self, dtype, copy, errors)\u001b[0m\n\u001b[1;32m   6317\u001b[0m     results \u001b[39m=\u001b[39m [\n\u001b[1;32m   6318\u001b[0m         \u001b[39mself\u001b[39m\u001b[39m.\u001b[39miloc[:, i]\u001b[39m.\u001b[39mastype(dtype, copy\u001b[39m=\u001b[39mcopy)\n\u001b[1;32m   6319\u001b[0m         \u001b[39mfor\u001b[39;00m i \u001b[39min\u001b[39;00m \u001b[39mrange\u001b[39m(\u001b[39mlen\u001b[39m(\u001b[39mself\u001b[39m\u001b[39m.\u001b[39mcolumns))\n\u001b[1;32m   6320\u001b[0m     ]\n\u001b[1;32m   6322\u001b[0m \u001b[39melse\u001b[39;00m:\n\u001b[1;32m   6323\u001b[0m     \u001b[39m# else, only a single dtype is given\u001b[39;00m\n\u001b[0;32m-> 6324\u001b[0m     new_data \u001b[39m=\u001b[39m \u001b[39mself\u001b[39;49m\u001b[39m.\u001b[39;49m_mgr\u001b[39m.\u001b[39;49mastype(dtype\u001b[39m=\u001b[39;49mdtype, copy\u001b[39m=\u001b[39;49mcopy, errors\u001b[39m=\u001b[39;49merrors)\n\u001b[1;32m   6325\u001b[0m     \u001b[39mreturn\u001b[39;00m \u001b[39mself\u001b[39m\u001b[39m.\u001b[39m_constructor(new_data)\u001b[39m.\u001b[39m__finalize__(\u001b[39mself\u001b[39m, method\u001b[39m=\u001b[39m\u001b[39m\"\u001b[39m\u001b[39mastype\u001b[39m\u001b[39m\"\u001b[39m)\n\u001b[1;32m   6327\u001b[0m \u001b[39m# GH 33113: handle empty frame or series\u001b[39;00m\n",
            "File \u001b[0;32m~/.local/lib/python3.10/site-packages/pandas/core/internals/managers.py:451\u001b[0m, in \u001b[0;36mBaseBlockManager.astype\u001b[0;34m(self, dtype, copy, errors)\u001b[0m\n\u001b[1;32m    448\u001b[0m \u001b[39melif\u001b[39;00m using_copy_on_write():\n\u001b[1;32m    449\u001b[0m     copy \u001b[39m=\u001b[39m \u001b[39mFalse\u001b[39;00m\n\u001b[0;32m--> 451\u001b[0m \u001b[39mreturn\u001b[39;00m \u001b[39mself\u001b[39;49m\u001b[39m.\u001b[39;49mapply(\n\u001b[1;32m    452\u001b[0m     \u001b[39m\"\u001b[39;49m\u001b[39mastype\u001b[39;49m\u001b[39m\"\u001b[39;49m,\n\u001b[1;32m    453\u001b[0m     dtype\u001b[39m=\u001b[39;49mdtype,\n\u001b[1;32m    454\u001b[0m     copy\u001b[39m=\u001b[39;49mcopy,\n\u001b[1;32m    455\u001b[0m     errors\u001b[39m=\u001b[39;49merrors,\n\u001b[1;32m    456\u001b[0m     using_cow\u001b[39m=\u001b[39;49musing_copy_on_write(),\n\u001b[1;32m    457\u001b[0m )\n",
            "File \u001b[0;32m~/.local/lib/python3.10/site-packages/pandas/core/internals/managers.py:352\u001b[0m, in \u001b[0;36mBaseBlockManager.apply\u001b[0;34m(self, f, align_keys, **kwargs)\u001b[0m\n\u001b[1;32m    350\u001b[0m         applied \u001b[39m=\u001b[39m b\u001b[39m.\u001b[39mapply(f, \u001b[39m*\u001b[39m\u001b[39m*\u001b[39mkwargs)\n\u001b[1;32m    351\u001b[0m     \u001b[39melse\u001b[39;00m:\n\u001b[0;32m--> 352\u001b[0m         applied \u001b[39m=\u001b[39m \u001b[39mgetattr\u001b[39;49m(b, f)(\u001b[39m*\u001b[39;49m\u001b[39m*\u001b[39;49mkwargs)\n\u001b[1;32m    353\u001b[0m     result_blocks \u001b[39m=\u001b[39m extend_blocks(applied, result_blocks)\n\u001b[1;32m    355\u001b[0m out \u001b[39m=\u001b[39m \u001b[39mtype\u001b[39m(\u001b[39mself\u001b[39m)\u001b[39m.\u001b[39mfrom_blocks(result_blocks, \u001b[39mself\u001b[39m\u001b[39m.\u001b[39maxes)\n",
            "File \u001b[0;32m~/.local/lib/python3.10/site-packages/pandas/core/internals/blocks.py:511\u001b[0m, in \u001b[0;36mBlock.astype\u001b[0;34m(self, dtype, copy, errors, using_cow)\u001b[0m\n\u001b[1;32m    491\u001b[0m \u001b[39m\"\"\"\u001b[39;00m\n\u001b[1;32m    492\u001b[0m \u001b[39mCoerce to the new dtype.\u001b[39;00m\n\u001b[1;32m    493\u001b[0m \n\u001b[0;32m   (...)\u001b[0m\n\u001b[1;32m    507\u001b[0m \u001b[39mBlock\u001b[39;00m\n\u001b[1;32m    508\u001b[0m \u001b[39m\"\"\"\u001b[39;00m\n\u001b[1;32m    509\u001b[0m values \u001b[39m=\u001b[39m \u001b[39mself\u001b[39m\u001b[39m.\u001b[39mvalues\n\u001b[0;32m--> 511\u001b[0m new_values \u001b[39m=\u001b[39m astype_array_safe(values, dtype, copy\u001b[39m=\u001b[39;49mcopy, errors\u001b[39m=\u001b[39;49merrors)\n\u001b[1;32m    513\u001b[0m new_values \u001b[39m=\u001b[39m maybe_coerce_values(new_values)\n\u001b[1;32m    515\u001b[0m refs \u001b[39m=\u001b[39m \u001b[39mNone\u001b[39;00m\n",
            "File \u001b[0;32m~/.local/lib/python3.10/site-packages/pandas/core/dtypes/astype.py:242\u001b[0m, in \u001b[0;36mastype_array_safe\u001b[0;34m(values, dtype, copy, errors)\u001b[0m\n\u001b[1;32m    239\u001b[0m     dtype \u001b[39m=\u001b[39m dtype\u001b[39m.\u001b[39mnumpy_dtype\n\u001b[1;32m    241\u001b[0m \u001b[39mtry\u001b[39;00m:\n\u001b[0;32m--> 242\u001b[0m     new_values \u001b[39m=\u001b[39m astype_array(values, dtype, copy\u001b[39m=\u001b[39;49mcopy)\n\u001b[1;32m    243\u001b[0m \u001b[39mexcept\u001b[39;00m (\u001b[39mValueError\u001b[39;00m, \u001b[39mTypeError\u001b[39;00m):\n\u001b[1;32m    244\u001b[0m     \u001b[39m# e.g. _astype_nansafe can fail on object-dtype of strings\u001b[39;00m\n\u001b[1;32m    245\u001b[0m     \u001b[39m#  trying to convert to float\u001b[39;00m\n\u001b[1;32m    246\u001b[0m     \u001b[39mif\u001b[39;00m errors \u001b[39m==\u001b[39m \u001b[39m\"\u001b[39m\u001b[39mignore\u001b[39m\u001b[39m\"\u001b[39m:\n",
            "File \u001b[0;32m~/.local/lib/python3.10/site-packages/pandas/core/dtypes/astype.py:187\u001b[0m, in \u001b[0;36mastype_array\u001b[0;34m(values, dtype, copy)\u001b[0m\n\u001b[1;32m    184\u001b[0m     values \u001b[39m=\u001b[39m values\u001b[39m.\u001b[39mastype(dtype, copy\u001b[39m=\u001b[39mcopy)\n\u001b[1;32m    186\u001b[0m \u001b[39melse\u001b[39;00m:\n\u001b[0;32m--> 187\u001b[0m     values \u001b[39m=\u001b[39m _astype_nansafe(values, dtype, copy\u001b[39m=\u001b[39;49mcopy)\n\u001b[1;32m    189\u001b[0m \u001b[39m# in pandas we don't store numpy str dtypes, so convert to object\u001b[39;00m\n\u001b[1;32m    190\u001b[0m \u001b[39mif\u001b[39;00m \u001b[39misinstance\u001b[39m(dtype, np\u001b[39m.\u001b[39mdtype) \u001b[39mand\u001b[39;00m \u001b[39missubclass\u001b[39m(values\u001b[39m.\u001b[39mdtype\u001b[39m.\u001b[39mtype, \u001b[39mstr\u001b[39m):\n",
            "File \u001b[0;32m~/.local/lib/python3.10/site-packages/pandas/core/dtypes/astype.py:105\u001b[0m, in \u001b[0;36m_astype_nansafe\u001b[0;34m(arr, dtype, copy, skipna)\u001b[0m\n\u001b[1;32m    100\u001b[0m     \u001b[39mreturn\u001b[39;00m lib\u001b[39m.\u001b[39mensure_string_array(\n\u001b[1;32m    101\u001b[0m         arr, skipna\u001b[39m=\u001b[39mskipna, convert_na_value\u001b[39m=\u001b[39m\u001b[39mFalse\u001b[39;00m\n\u001b[1;32m    102\u001b[0m     )\u001b[39m.\u001b[39mreshape(shape)\n\u001b[1;32m    104\u001b[0m \u001b[39melif\u001b[39;00m np\u001b[39m.\u001b[39missubdtype(arr\u001b[39m.\u001b[39mdtype, np\u001b[39m.\u001b[39mfloating) \u001b[39mand\u001b[39;00m is_integer_dtype(dtype):\n\u001b[0;32m--> 105\u001b[0m     \u001b[39mreturn\u001b[39;00m _astype_float_to_int_nansafe(arr, dtype, copy)\n\u001b[1;32m    107\u001b[0m \u001b[39melif\u001b[39;00m is_object_dtype(arr\u001b[39m.\u001b[39mdtype):\n\u001b[1;32m    108\u001b[0m     \u001b[39m# if we have a datetime/timedelta array of objects\u001b[39;00m\n\u001b[1;32m    109\u001b[0m     \u001b[39m# then coerce to datetime64[ns] and use DatetimeArray.astype\u001b[39;00m\n\u001b[1;32m    111\u001b[0m     \u001b[39mif\u001b[39;00m is_datetime64_dtype(dtype):\n",
            "File \u001b[0;32m~/.local/lib/python3.10/site-packages/pandas/core/dtypes/astype.py:150\u001b[0m, in \u001b[0;36m_astype_float_to_int_nansafe\u001b[0;34m(values, dtype, copy)\u001b[0m\n\u001b[1;32m    146\u001b[0m \u001b[39m\"\"\"\u001b[39;00m\n\u001b[1;32m    147\u001b[0m \u001b[39mastype with a check preventing converting NaN to an meaningless integer value.\u001b[39;00m\n\u001b[1;32m    148\u001b[0m \u001b[39m\"\"\"\u001b[39;00m\n\u001b[1;32m    149\u001b[0m \u001b[39mif\u001b[39;00m \u001b[39mnot\u001b[39;00m np\u001b[39m.\u001b[39misfinite(values)\u001b[39m.\u001b[39mall():\n\u001b[0;32m--> 150\u001b[0m     \u001b[39mraise\u001b[39;00m IntCastingNaNError(\n\u001b[1;32m    151\u001b[0m         \u001b[39m\"\u001b[39m\u001b[39mCannot convert non-finite values (NA or inf) to integer\u001b[39m\u001b[39m\"\u001b[39m\n\u001b[1;32m    152\u001b[0m     )\n\u001b[1;32m    153\u001b[0m \u001b[39mif\u001b[39;00m dtype\u001b[39m.\u001b[39mkind \u001b[39m==\u001b[39m \u001b[39m\"\u001b[39m\u001b[39mu\u001b[39m\u001b[39m\"\u001b[39m:\n\u001b[1;32m    154\u001b[0m     \u001b[39m# GH#45151\u001b[39;00m\n\u001b[1;32m    155\u001b[0m     \u001b[39mif\u001b[39;00m \u001b[39mnot\u001b[39;00m (values \u001b[39m>\u001b[39m\u001b[39m=\u001b[39m \u001b[39m0\u001b[39m)\u001b[39m.\u001b[39mall():\n",
            "\u001b[0;31mIntCastingNaNError\u001b[0m: Cannot convert non-finite values (NA or inf) to integer: Error while type casting for column 'horsepower'"
          ]
        }
      ],
      "source": [
        "# ANALIZO POSIBLES VALORES PARA LA COLUMNA HOURSEPOWER\n",
        "print('Hoursepower (before):', df_autos.horsepower.unique())\n",
        "# ELIMINO LAS TUPLAS CON ?\n",
        "df_autos = df_autos.drop(df_autos[df_autos.horsepower == '?'].index)\n",
        "df_autos = df_autos.astype({'horsepower':'int32'})\n",
        "print('Hoursepower (after):', df_autos.horsepower.unique())"
      ]
    },
    {
      "attachments": {},
      "cell_type": "markdown",
      "id": "7oq6HcRMojwn",
      "metadata": {
        "id": "7oq6HcRMojwn"
      },
      "source": [
        "**price**"
      ]
    },
    {
      "cell_type": "code",
      "execution_count": 10,
      "id": "k5vLVgkdie-F",
      "metadata": {
        "id": "k5vLVgkdie-F"
      },
      "outputs": [
        {
          "name": "stdout",
          "output_type": "stream",
          "text": [
            "Price (before): [13495. 16500. 13950. 17450. 15250. 17710. 18920. 23875.    nan 16430.\n",
            " 16925. 20970. 21105. 24565. 30760. 41315. 36880.  5151.  6295.  6575.\n",
            "  5572.  6377.  7957.  6229.  6692.  7609.  8558.  8921. 12964.  6479.\n",
            "  6855.  5399.  6529.  7129.  7295.  7895.  9095.  8845. 10295. 12945.\n",
            " 10345.  6785. 11048. 32250. 35550. 36000.  5195.  6095.  6795.  6695.\n",
            "  7395. 10945. 11845. 13645. 15645.  8495. 10595. 10245. 10795. 11245.\n",
            " 18280. 18344. 25552. 28248. 28176. 31600. 34184. 35056. 40960. 45400.\n",
            " 16503.  5389.  6189.  6669.  7689.  9959.  8499. 12629. 14869. 14489.\n",
            "  6989.  8189.  9279.  5499.  7099.  6649.  6849.  7349.  7299.  7799.\n",
            "  7499.  7999.  8249.  8949.  9549. 13499. 14399. 17199. 19699. 18399.\n",
            " 11900. 13200. 12440. 13860. 15580. 16900. 16695. 17075. 16630. 17950.\n",
            " 18150. 12764. 22018. 32528. 34028. 37028.  9295.  9895. 11850. 12170.\n",
            " 15040. 15510. 18620.  5118.  7053.  7603.  7126.  7775.  9960.  9233.\n",
            " 11259.  7463. 10198.  8013. 11694.  5348.  6338.  6488.  6918.  7898.\n",
            "  8778.  6938.  7198.  7788.  7738.  8358.  9258.  8058.  8238.  9298.\n",
            "  9538.  8449.  9639.  9989. 11199. 11549. 17669.  8948. 10698.  9988.\n",
            " 10898. 11248. 16558. 15998. 15690. 15750.  7975.  7995.  8195.  9495.\n",
            "  9995. 11595.  9980. 13295. 13845. 12290. 12940. 13415. 15985. 16515.\n",
            " 18420. 18950. 16845. 19045. 21485. 22470. 22625.]\n"
          ]
        },
        {
          "ename": "IntCastingNaNError",
          "evalue": "Cannot convert non-finite values (NA or inf) to integer: Error while type casting for column 'price'",
          "output_type": "error",
          "traceback": [
            "\u001b[0;31m---------------------------------------------------------------------------\u001b[0m",
            "\u001b[0;31mIntCastingNaNError\u001b[0m                        Traceback (most recent call last)",
            "Cell \u001b[0;32mIn[10], line 5\u001b[0m\n\u001b[1;32m      3\u001b[0m \u001b[39m# ELIMINO LAS TUPLAS CON ?\u001b[39;00m\n\u001b[1;32m      4\u001b[0m df_autos \u001b[39m=\u001b[39m df_autos\u001b[39m.\u001b[39mdrop(df_autos[df_autos\u001b[39m.\u001b[39mprice \u001b[39m==\u001b[39m \u001b[39m'\u001b[39m\u001b[39m?\u001b[39m\u001b[39m'\u001b[39m]\u001b[39m.\u001b[39mindex)\n\u001b[0;32m----> 5\u001b[0m df_autos \u001b[39m=\u001b[39m df_autos\u001b[39m.\u001b[39;49mastype({\u001b[39m'\u001b[39;49m\u001b[39mprice\u001b[39;49m\u001b[39m'\u001b[39;49m:\u001b[39m'\u001b[39;49m\u001b[39mint32\u001b[39;49m\u001b[39m'\u001b[39;49m})\n\u001b[1;32m      6\u001b[0m \u001b[39mprint\u001b[39m(\u001b[39m'\u001b[39m\u001b[39mPrice (after):\u001b[39m\u001b[39m'\u001b[39m, df_autos\u001b[39m.\u001b[39mprice\u001b[39m.\u001b[39munique())\n",
            "File \u001b[0;32m~/.local/lib/python3.10/site-packages/pandas/core/generic.py:6305\u001b[0m, in \u001b[0;36mNDFrame.astype\u001b[0;34m(self, dtype, copy, errors)\u001b[0m\n\u001b[1;32m   6303\u001b[0m \u001b[39melse\u001b[39;00m:\n\u001b[1;32m   6304\u001b[0m     \u001b[39mtry\u001b[39;00m:\n\u001b[0;32m-> 6305\u001b[0m         res_col \u001b[39m=\u001b[39m col\u001b[39m.\u001b[39;49mastype(dtype\u001b[39m=\u001b[39;49mcdt, copy\u001b[39m=\u001b[39;49mcopy, errors\u001b[39m=\u001b[39;49merrors)\n\u001b[1;32m   6306\u001b[0m     \u001b[39mexcept\u001b[39;00m \u001b[39mValueError\u001b[39;00m \u001b[39mas\u001b[39;00m ex:\n\u001b[1;32m   6307\u001b[0m         ex\u001b[39m.\u001b[39margs \u001b[39m=\u001b[39m (\n\u001b[1;32m   6308\u001b[0m             \u001b[39mf\u001b[39m\u001b[39m\"\u001b[39m\u001b[39m{\u001b[39;00mex\u001b[39m}\u001b[39;00m\u001b[39m: Error while type casting for column \u001b[39m\u001b[39m'\u001b[39m\u001b[39m{\u001b[39;00mcol_name\u001b[39m}\u001b[39;00m\u001b[39m'\u001b[39m\u001b[39m\"\u001b[39m,\n\u001b[1;32m   6309\u001b[0m         )\n",
            "File \u001b[0;32m~/.local/lib/python3.10/site-packages/pandas/core/generic.py:6324\u001b[0m, in \u001b[0;36mNDFrame.astype\u001b[0;34m(self, dtype, copy, errors)\u001b[0m\n\u001b[1;32m   6317\u001b[0m     results \u001b[39m=\u001b[39m [\n\u001b[1;32m   6318\u001b[0m         \u001b[39mself\u001b[39m\u001b[39m.\u001b[39miloc[:, i]\u001b[39m.\u001b[39mastype(dtype, copy\u001b[39m=\u001b[39mcopy)\n\u001b[1;32m   6319\u001b[0m         \u001b[39mfor\u001b[39;00m i \u001b[39min\u001b[39;00m \u001b[39mrange\u001b[39m(\u001b[39mlen\u001b[39m(\u001b[39mself\u001b[39m\u001b[39m.\u001b[39mcolumns))\n\u001b[1;32m   6320\u001b[0m     ]\n\u001b[1;32m   6322\u001b[0m \u001b[39melse\u001b[39;00m:\n\u001b[1;32m   6323\u001b[0m     \u001b[39m# else, only a single dtype is given\u001b[39;00m\n\u001b[0;32m-> 6324\u001b[0m     new_data \u001b[39m=\u001b[39m \u001b[39mself\u001b[39;49m\u001b[39m.\u001b[39;49m_mgr\u001b[39m.\u001b[39;49mastype(dtype\u001b[39m=\u001b[39;49mdtype, copy\u001b[39m=\u001b[39;49mcopy, errors\u001b[39m=\u001b[39;49merrors)\n\u001b[1;32m   6325\u001b[0m     \u001b[39mreturn\u001b[39;00m \u001b[39mself\u001b[39m\u001b[39m.\u001b[39m_constructor(new_data)\u001b[39m.\u001b[39m__finalize__(\u001b[39mself\u001b[39m, method\u001b[39m=\u001b[39m\u001b[39m\"\u001b[39m\u001b[39mastype\u001b[39m\u001b[39m\"\u001b[39m)\n\u001b[1;32m   6327\u001b[0m \u001b[39m# GH 33113: handle empty frame or series\u001b[39;00m\n",
            "File \u001b[0;32m~/.local/lib/python3.10/site-packages/pandas/core/internals/managers.py:451\u001b[0m, in \u001b[0;36mBaseBlockManager.astype\u001b[0;34m(self, dtype, copy, errors)\u001b[0m\n\u001b[1;32m    448\u001b[0m \u001b[39melif\u001b[39;00m using_copy_on_write():\n\u001b[1;32m    449\u001b[0m     copy \u001b[39m=\u001b[39m \u001b[39mFalse\u001b[39;00m\n\u001b[0;32m--> 451\u001b[0m \u001b[39mreturn\u001b[39;00m \u001b[39mself\u001b[39;49m\u001b[39m.\u001b[39;49mapply(\n\u001b[1;32m    452\u001b[0m     \u001b[39m\"\u001b[39;49m\u001b[39mastype\u001b[39;49m\u001b[39m\"\u001b[39;49m,\n\u001b[1;32m    453\u001b[0m     dtype\u001b[39m=\u001b[39;49mdtype,\n\u001b[1;32m    454\u001b[0m     copy\u001b[39m=\u001b[39;49mcopy,\n\u001b[1;32m    455\u001b[0m     errors\u001b[39m=\u001b[39;49merrors,\n\u001b[1;32m    456\u001b[0m     using_cow\u001b[39m=\u001b[39;49musing_copy_on_write(),\n\u001b[1;32m    457\u001b[0m )\n",
            "File \u001b[0;32m~/.local/lib/python3.10/site-packages/pandas/core/internals/managers.py:352\u001b[0m, in \u001b[0;36mBaseBlockManager.apply\u001b[0;34m(self, f, align_keys, **kwargs)\u001b[0m\n\u001b[1;32m    350\u001b[0m         applied \u001b[39m=\u001b[39m b\u001b[39m.\u001b[39mapply(f, \u001b[39m*\u001b[39m\u001b[39m*\u001b[39mkwargs)\n\u001b[1;32m    351\u001b[0m     \u001b[39melse\u001b[39;00m:\n\u001b[0;32m--> 352\u001b[0m         applied \u001b[39m=\u001b[39m \u001b[39mgetattr\u001b[39;49m(b, f)(\u001b[39m*\u001b[39;49m\u001b[39m*\u001b[39;49mkwargs)\n\u001b[1;32m    353\u001b[0m     result_blocks \u001b[39m=\u001b[39m extend_blocks(applied, result_blocks)\n\u001b[1;32m    355\u001b[0m out \u001b[39m=\u001b[39m \u001b[39mtype\u001b[39m(\u001b[39mself\u001b[39m)\u001b[39m.\u001b[39mfrom_blocks(result_blocks, \u001b[39mself\u001b[39m\u001b[39m.\u001b[39maxes)\n",
            "File \u001b[0;32m~/.local/lib/python3.10/site-packages/pandas/core/internals/blocks.py:511\u001b[0m, in \u001b[0;36mBlock.astype\u001b[0;34m(self, dtype, copy, errors, using_cow)\u001b[0m\n\u001b[1;32m    491\u001b[0m \u001b[39m\"\"\"\u001b[39;00m\n\u001b[1;32m    492\u001b[0m \u001b[39mCoerce to the new dtype.\u001b[39;00m\n\u001b[1;32m    493\u001b[0m \n\u001b[0;32m   (...)\u001b[0m\n\u001b[1;32m    507\u001b[0m \u001b[39mBlock\u001b[39;00m\n\u001b[1;32m    508\u001b[0m \u001b[39m\"\"\"\u001b[39;00m\n\u001b[1;32m    509\u001b[0m values \u001b[39m=\u001b[39m \u001b[39mself\u001b[39m\u001b[39m.\u001b[39mvalues\n\u001b[0;32m--> 511\u001b[0m new_values \u001b[39m=\u001b[39m astype_array_safe(values, dtype, copy\u001b[39m=\u001b[39;49mcopy, errors\u001b[39m=\u001b[39;49merrors)\n\u001b[1;32m    513\u001b[0m new_values \u001b[39m=\u001b[39m maybe_coerce_values(new_values)\n\u001b[1;32m    515\u001b[0m refs \u001b[39m=\u001b[39m \u001b[39mNone\u001b[39;00m\n",
            "File \u001b[0;32m~/.local/lib/python3.10/site-packages/pandas/core/dtypes/astype.py:242\u001b[0m, in \u001b[0;36mastype_array_safe\u001b[0;34m(values, dtype, copy, errors)\u001b[0m\n\u001b[1;32m    239\u001b[0m     dtype \u001b[39m=\u001b[39m dtype\u001b[39m.\u001b[39mnumpy_dtype\n\u001b[1;32m    241\u001b[0m \u001b[39mtry\u001b[39;00m:\n\u001b[0;32m--> 242\u001b[0m     new_values \u001b[39m=\u001b[39m astype_array(values, dtype, copy\u001b[39m=\u001b[39;49mcopy)\n\u001b[1;32m    243\u001b[0m \u001b[39mexcept\u001b[39;00m (\u001b[39mValueError\u001b[39;00m, \u001b[39mTypeError\u001b[39;00m):\n\u001b[1;32m    244\u001b[0m     \u001b[39m# e.g. _astype_nansafe can fail on object-dtype of strings\u001b[39;00m\n\u001b[1;32m    245\u001b[0m     \u001b[39m#  trying to convert to float\u001b[39;00m\n\u001b[1;32m    246\u001b[0m     \u001b[39mif\u001b[39;00m errors \u001b[39m==\u001b[39m \u001b[39m\"\u001b[39m\u001b[39mignore\u001b[39m\u001b[39m\"\u001b[39m:\n",
            "File \u001b[0;32m~/.local/lib/python3.10/site-packages/pandas/core/dtypes/astype.py:187\u001b[0m, in \u001b[0;36mastype_array\u001b[0;34m(values, dtype, copy)\u001b[0m\n\u001b[1;32m    184\u001b[0m     values \u001b[39m=\u001b[39m values\u001b[39m.\u001b[39mastype(dtype, copy\u001b[39m=\u001b[39mcopy)\n\u001b[1;32m    186\u001b[0m \u001b[39melse\u001b[39;00m:\n\u001b[0;32m--> 187\u001b[0m     values \u001b[39m=\u001b[39m _astype_nansafe(values, dtype, copy\u001b[39m=\u001b[39;49mcopy)\n\u001b[1;32m    189\u001b[0m \u001b[39m# in pandas we don't store numpy str dtypes, so convert to object\u001b[39;00m\n\u001b[1;32m    190\u001b[0m \u001b[39mif\u001b[39;00m \u001b[39misinstance\u001b[39m(dtype, np\u001b[39m.\u001b[39mdtype) \u001b[39mand\u001b[39;00m \u001b[39missubclass\u001b[39m(values\u001b[39m.\u001b[39mdtype\u001b[39m.\u001b[39mtype, \u001b[39mstr\u001b[39m):\n",
            "File \u001b[0;32m~/.local/lib/python3.10/site-packages/pandas/core/dtypes/astype.py:105\u001b[0m, in \u001b[0;36m_astype_nansafe\u001b[0;34m(arr, dtype, copy, skipna)\u001b[0m\n\u001b[1;32m    100\u001b[0m     \u001b[39mreturn\u001b[39;00m lib\u001b[39m.\u001b[39mensure_string_array(\n\u001b[1;32m    101\u001b[0m         arr, skipna\u001b[39m=\u001b[39mskipna, convert_na_value\u001b[39m=\u001b[39m\u001b[39mFalse\u001b[39;00m\n\u001b[1;32m    102\u001b[0m     )\u001b[39m.\u001b[39mreshape(shape)\n\u001b[1;32m    104\u001b[0m \u001b[39melif\u001b[39;00m np\u001b[39m.\u001b[39missubdtype(arr\u001b[39m.\u001b[39mdtype, np\u001b[39m.\u001b[39mfloating) \u001b[39mand\u001b[39;00m is_integer_dtype(dtype):\n\u001b[0;32m--> 105\u001b[0m     \u001b[39mreturn\u001b[39;00m _astype_float_to_int_nansafe(arr, dtype, copy)\n\u001b[1;32m    107\u001b[0m \u001b[39melif\u001b[39;00m is_object_dtype(arr\u001b[39m.\u001b[39mdtype):\n\u001b[1;32m    108\u001b[0m     \u001b[39m# if we have a datetime/timedelta array of objects\u001b[39;00m\n\u001b[1;32m    109\u001b[0m     \u001b[39m# then coerce to datetime64[ns] and use DatetimeArray.astype\u001b[39;00m\n\u001b[1;32m    111\u001b[0m     \u001b[39mif\u001b[39;00m is_datetime64_dtype(dtype):\n",
            "File \u001b[0;32m~/.local/lib/python3.10/site-packages/pandas/core/dtypes/astype.py:150\u001b[0m, in \u001b[0;36m_astype_float_to_int_nansafe\u001b[0;34m(values, dtype, copy)\u001b[0m\n\u001b[1;32m    146\u001b[0m \u001b[39m\"\"\"\u001b[39;00m\n\u001b[1;32m    147\u001b[0m \u001b[39mastype with a check preventing converting NaN to an meaningless integer value.\u001b[39;00m\n\u001b[1;32m    148\u001b[0m \u001b[39m\"\"\"\u001b[39;00m\n\u001b[1;32m    149\u001b[0m \u001b[39mif\u001b[39;00m \u001b[39mnot\u001b[39;00m np\u001b[39m.\u001b[39misfinite(values)\u001b[39m.\u001b[39mall():\n\u001b[0;32m--> 150\u001b[0m     \u001b[39mraise\u001b[39;00m IntCastingNaNError(\n\u001b[1;32m    151\u001b[0m         \u001b[39m\"\u001b[39m\u001b[39mCannot convert non-finite values (NA or inf) to integer\u001b[39m\u001b[39m\"\u001b[39m\n\u001b[1;32m    152\u001b[0m     )\n\u001b[1;32m    153\u001b[0m \u001b[39mif\u001b[39;00m dtype\u001b[39m.\u001b[39mkind \u001b[39m==\u001b[39m \u001b[39m\"\u001b[39m\u001b[39mu\u001b[39m\u001b[39m\"\u001b[39m:\n\u001b[1;32m    154\u001b[0m     \u001b[39m# GH#45151\u001b[39;00m\n\u001b[1;32m    155\u001b[0m     \u001b[39mif\u001b[39;00m \u001b[39mnot\u001b[39;00m (values \u001b[39m>\u001b[39m\u001b[39m=\u001b[39m \u001b[39m0\u001b[39m)\u001b[39m.\u001b[39mall():\n",
            "\u001b[0;31mIntCastingNaNError\u001b[0m: Cannot convert non-finite values (NA or inf) to integer: Error while type casting for column 'price'"
          ]
        }
      ],
      "source": [
        "# ANALIZO POSIBLES VALORES PARA LA COLUMNA PRICE\n",
        "print('Price (before):', df_autos.price.unique())\n",
        "# ELIMINO LAS TUPLAS CON ?\n",
        "df_autos = df_autos.drop(df_autos[df_autos.price == '?'].index)\n",
        "df_autos = df_autos.astype({'price':'int32'})\n",
        "print('Price (after):', df_autos.price.unique())"
      ]
    },
    {
      "attachments": {},
      "cell_type": "markdown",
      "id": "vLGtzKg3okTP",
      "metadata": {
        "id": "vLGtzKg3okTP"
      },
      "source": [
        "**normalized-losses**"
      ]
    },
    {
      "cell_type": "code",
      "execution_count": 11,
      "id": "axCC7EEAokpI",
      "metadata": {
        "id": "axCC7EEAokpI"
      },
      "outputs": [
        {
          "data": {
            "text/plain": [
              "normalized-losses\n",
              "122.0    45\n",
              "161.0    11\n",
              "91.0      8\n",
              "150.0     7\n",
              "128.0     6\n",
              "134.0     6\n",
              "104.0     6\n",
              "95.0      5\n",
              "102.0     5\n",
              "103.0     5\n",
              "74.0      5\n",
              "85.0      5\n",
              "65.0      5\n",
              "94.0      5\n",
              "168.0     5\n",
              "106.0     4\n",
              "148.0     4\n",
              "118.0     4\n",
              "93.0      4\n",
              "83.0      3\n",
              "101.0     3\n",
              "115.0     3\n",
              "154.0     3\n",
              "125.0     3\n",
              "137.0     3\n",
              "108.0     2\n",
              "87.0      2\n",
              "119.0     2\n",
              "194.0     2\n",
              "197.0     2\n",
              "89.0      2\n",
              "158.0     2\n",
              "192.0     2\n",
              "113.0     2\n",
              "188.0     2\n",
              "81.0      2\n",
              "110.0     2\n",
              "145.0     2\n",
              "129.0     2\n",
              "164.0     2\n",
              "153.0     2\n",
              "186.0     1\n",
              "107.0     1\n",
              "78.0      1\n",
              "231.0     1\n",
              "77.0      1\n",
              "142.0     1\n",
              "98.0      1\n",
              "121.0     1\n",
              "90.0      1\n",
              "256.0     1\n",
              "Name: count, dtype: int64"
            ]
          },
          "execution_count": 11,
          "metadata": {},
          "output_type": "execute_result"
        }
      ],
      "source": [
        "df_autos['normalized-losses'] = df_autos['normalized-losses'].replace('?', numpy.nan)\n",
        "df_autos['normalized-losses'] = df_autos['normalized-losses'].map(lambda x : numpy.int64(x), na_action='ignore')\n",
        "mean = df_autos['normalized-losses'].mean()\n",
        "df_autos['normalized-losses'] = df_autos['normalized-losses'].replace(numpy.nan, mean)\n",
        "pandas.value_counts(df_autos['normalized-losses'])"
      ]
    },
    {
      "cell_type": "code",
      "execution_count": 12,
      "id": "WIjxi4v4ydsZ",
      "metadata": {
        "colab": {
          "base_uri": "https://localhost:8080/"
        },
        "id": "WIjxi4v4ydsZ",
        "outputId": "c2a0b762-96f3-4302-acca-d377d446be1c"
      },
      "outputs": [
        {
          "data": {
            "text/plain": [
              "122.0"
            ]
          },
          "execution_count": 12,
          "metadata": {},
          "output_type": "execute_result"
        }
      ],
      "source": [
        "mean"
      ]
    },
    {
      "attachments": {},
      "cell_type": "markdown",
      "id": "371eb21c",
      "metadata": {
        "id": "371eb21c"
      },
      "source": [
        "**MEDIDAS ESTADISTICAS**"
      ]
    },
    {
      "attachments": {},
      "cell_type": "markdown",
      "id": "iORv6gAhWmTN",
      "metadata": {
        "id": "iORv6gAhWmTN"
      },
      "source": [
        "**horsepower**"
      ]
    },
    {
      "cell_type": "code",
      "execution_count": 13,
      "id": "XnWSzeNvm_wq",
      "metadata": {
        "colab": {
          "base_uri": "https://localhost:8080/"
        },
        "id": "XnWSzeNvm_wq",
        "outputId": "5cc04d26-84f0-4fc1-eaa8-84113d13b0a6"
      },
      "outputs": [
        {
          "data": {
            "text/plain": [
              "count    203.000000\n",
              "mean     104.256158\n",
              "std       39.714369\n",
              "min       48.000000\n",
              "25%       70.000000\n",
              "50%       95.000000\n",
              "75%      116.000000\n",
              "max      288.000000\n",
              "Name: horsepower, dtype: float64"
            ]
          },
          "execution_count": 13,
          "metadata": {},
          "output_type": "execute_result"
        }
      ],
      "source": [
        "df_autos['horsepower'].describe()"
      ]
    },
    {
      "cell_type": "code",
      "execution_count": 14,
      "id": "d0c93b99",
      "metadata": {
        "colab": {
          "base_uri": "https://localhost:8080/"
        },
        "id": "d0c93b99",
        "outputId": "d151dc5d-fef2-4c0b-ee3b-0894438f34e9"
      },
      "outputs": [
        {
          "name": "stdout",
          "output_type": "stream",
          "text": [
            "Media 104.3\n",
            "Mediana: 95.0 \n",
            "Moda: 68.0\n"
          ]
        },
        {
          "name": "stderr",
          "output_type": "stream",
          "text": [
            "/tmp/ipykernel_85674/820128157.py:6: FutureWarning: Calling float on a single element Series is deprecated and will raise a TypeError in the future. Use float(ser.iloc[0]) instead\n",
            "  print(\"Mediana: %.1f \\nModa: %.1f\" % (mediana,moda))\n"
          ]
        }
      ],
      "source": [
        "media = df_autos['horsepower'].mean()\n",
        "mediana = df_autos['horsepower'].median()\n",
        "moda = df_autos['horsepower'].mode()\n",
        "\n",
        "print(\"Media %.1f\" % media)\n",
        "print(\"Mediana: %.1f \\nModa: %.1f\" % (mediana,moda))"
      ]
    },
    {
      "cell_type": "code",
      "execution_count": 15,
      "id": "85KONsr7C_ak",
      "metadata": {
        "colab": {
          "base_uri": "https://localhost:8080/"
        },
        "id": "85KONsr7C_ak",
        "outputId": "773f7461-df42-40cf-ceec-f59769181c2d"
      },
      "outputs": [
        {
          "name": "stdout",
          "output_type": "stream",
          "text": [
            "Mínimo 48.0\n",
            "Máximo: 288.0\n"
          ]
        }
      ],
      "source": [
        "min = df_autos['horsepower'].min()\n",
        "max = df_autos['horsepower'].max()\n",
        "\n",
        "print(\"Mínimo %.1f\" % min)\n",
        "print(\"Máximo: %.1f\" % max)"
      ]
    },
    {
      "cell_type": "code",
      "execution_count": 16,
      "id": "sw4UDUT6DWAq",
      "metadata": {
        "colab": {
          "base_uri": "https://localhost:8080/"
        },
        "id": "sw4UDUT6DWAq",
        "outputId": "3f622085-82e2-4cea-8e81-324f610608e8"
      },
      "outputs": [
        {
          "name": "stdout",
          "output_type": "stream",
          "text": [
            "Q1 =  nan\n",
            "Q2 =  95.0\n",
            "Q3 =  nan\n",
            "RIC = nan\n"
          ]
        }
      ],
      "source": [
        "q1 = numpy.quantile(df_autos.horsepower, 0.25)\n",
        "q3 = numpy.quantile(df_autos.horsepower, 0.75)\n",
        "ric = q3 - q1\n",
        "print('Q1 = ', q1)\n",
        "print('Q2 = ', mediana)\n",
        "print('Q3 = ', q3)\n",
        "print(\"RIC = %.1f\" % ric)"
      ]
    },
    {
      "cell_type": "code",
      "execution_count": 17,
      "id": "gQwL0W4HoUVD",
      "metadata": {
        "colab": {
          "base_uri": "https://localhost:8080/"
        },
        "id": "gQwL0W4HoUVD",
        "outputId": "1f0cf4aa-1a93-482c-9e51-65c0f2972df9"
      },
      "outputs": [
        {
          "name": "stdout",
          "output_type": "stream",
          "text": [
            "Límite inferior:  nan\n",
            "Límite superior:  nan\n"
          ]
        }
      ],
      "source": [
        "lim_inf = q1 - 1.5 * ric\n",
        "lim_sup = q3 + 1.5 * ric\n",
        "print('Límite inferior: ', lim_inf)\n",
        "print('Límite superior: ', lim_sup)"
      ]
    },
    {
      "cell_type": "code",
      "execution_count": 18,
      "id": "f3sbNKElrGiw",
      "metadata": {
        "colab": {
          "base_uri": "https://localhost:8080/"
        },
        "id": "f3sbNKElrGiw",
        "outputId": "299236da-7007-4cf4-8bec-ac9627fa7098"
      },
      "outputs": [
        {
          "name": "stdout",
          "output_type": "stream",
          "text": [
            "None\n",
            "None\n"
          ]
        }
      ],
      "source": [
        "#BIGOTES\n",
        "big_inf = None\n",
        "big_sup = None\n",
        "#ordeno la columna para empezar a buscar en sus extremos\n",
        "horsepower_list = (df_autos['horsepower'].sort_values(ascending=True)).tolist()\n",
        "for hp in horsepower_list:\n",
        "  if (hp >= lim_inf) and (hp <= lim_sup):\n",
        "    big_inf = hp\n",
        "    break\n",
        "for hp in reversed(horsepower_list):\n",
        "  if (hp >= lim_inf) and (hp <= lim_sup):\n",
        "    big_sup = hp\n",
        "    break\n",
        "print(big_inf)\n",
        "print(big_sup)"
      ]
    },
    {
      "cell_type": "code",
      "execution_count": 19,
      "id": "4SJRzNCx_uJG",
      "metadata": {
        "colab": {
          "base_uri": "https://localhost:8080/"
        },
        "id": "4SJRzNCx_uJG",
        "outputId": "5f4366d4-b34a-4ab5-f34a-68a78bd17233"
      },
      "outputs": [
        {
          "ename": "ValueError",
          "evalue": "cannot convert float NaN to integer",
          "output_type": "error",
          "traceback": [
            "\u001b[0;31m---------------------------------------------------------------------------\u001b[0m",
            "\u001b[0;31mValueError\u001b[0m                                Traceback (most recent call last)",
            "Cell \u001b[0;32mIn[19], line 3\u001b[0m\n\u001b[1;32m      1\u001b[0m \u001b[39m#INTERVALO DE VALORES ATÍPICOS LEVES Y EXTREMOS\u001b[39;00m\n\u001b[1;32m      2\u001b[0m end_mild \u001b[39m=\u001b[39m lim_sup \u001b[39m+\u001b[39m (ric \u001b[39m*\u001b[39m \u001b[39m1.5\u001b[39m)\n\u001b[0;32m----> 3\u001b[0m \u001b[39mprint\u001b[39m(\u001b[39m'\u001b[39;49m\u001b[39mIntervado de valores atípicos leves = [\u001b[39;49m\u001b[39m%.1i\u001b[39;49;00m\u001b[39m, \u001b[39;49m\u001b[39m%.1i\u001b[39;49;00m\u001b[39m]\u001b[39;49m\u001b[39m'\u001b[39;49m \u001b[39m%\u001b[39;49m (lim_sup, end_mild))\n\u001b[1;32m      4\u001b[0m \u001b[39mprint\u001b[39m(\u001b[39m'\u001b[39m\u001b[39mIntervado de valores atípicos extremos = (\u001b[39m\u001b[39m%.1i\u001b[39;00m\u001b[39m, \u001b[39m\u001b[39m%.9s\u001b[39;00m\u001b[39m)\u001b[39m\u001b[39m'\u001b[39m \u001b[39m%\u001b[39m (end_mild, \u001b[39m'\u001b[39m\u001b[39m+infinito\u001b[39m\u001b[39m'\u001b[39m))\n",
            "\u001b[0;31mValueError\u001b[0m: cannot convert float NaN to integer"
          ]
        }
      ],
      "source": [
        "#INTERVALO DE VALORES ATÍPICOS LEVES Y EXTREMOS\n",
        "end_mild = lim_sup + (ric * 1.5)\n",
        "print('Intervado de valores atípicos leves = [%.1i, %.1i]' % (lim_sup, end_mild))\n",
        "print('Intervado de valores atípicos extremos = (%.1i, %.9s)' % (end_mild, '+infinito'))"
      ]
    },
    {
      "cell_type": "code",
      "execution_count": 20,
      "id": "Zmt7ZjkZ9qjO",
      "metadata": {
        "colab": {
          "base_uri": "https://localhost:8080/"
        },
        "id": "Zmt7ZjkZ9qjO",
        "outputId": "5c5a92b5-92ae-420a-c7aa-dff128ef4f06"
      },
      "outputs": [
        {
          "name": "stdout",
          "output_type": "stream",
          "text": [
            "Valores atípicos leves: []\n",
            "Valores atípicos extremos: []\n"
          ]
        }
      ],
      "source": [
        "#LISTA DE VALORES ATÍPICOS LEVES Y EXTREMOS\n",
        "mild_outliers = []\n",
        "extreme_outliers = []\n",
        "\n",
        "for m in horsepower_list:\n",
        "  if (m >= lim_sup) and (m <= end_mild):\n",
        "    mild_outliers.append(m);\n",
        "  if (m > end_mild):\n",
        "    extreme_outliers.append(m);\n",
        "print('Valores atípicos leves:', mild_outliers)\n",
        "print('Valores atípicos extremos:', extreme_outliers)"
      ]
    },
    {
      "attachments": {},
      "cell_type": "markdown",
      "id": "g68BB927Wqly",
      "metadata": {
        "id": "g68BB927Wqly"
      },
      "source": [
        "**price group by fuel-type**"
      ]
    },
    {
      "cell_type": "code",
      "execution_count": 21,
      "id": "zaPOKZsxcQ3O",
      "metadata": {
        "colab": {
          "base_uri": "https://localhost:8080/",
          "height": 143
        },
        "id": "zaPOKZsxcQ3O",
        "outputId": "79558dec-1350-4282-90e9-fb8c98df5bf8"
      },
      "outputs": [
        {
          "data": {
            "text/html": [
              "<div>\n",
              "<style scoped>\n",
              "    .dataframe tbody tr th:only-of-type {\n",
              "        vertical-align: middle;\n",
              "    }\n",
              "\n",
              "    .dataframe tbody tr th {\n",
              "        vertical-align: top;\n",
              "    }\n",
              "\n",
              "    .dataframe thead th {\n",
              "        text-align: right;\n",
              "    }\n",
              "</style>\n",
              "<table border=\"1\" class=\"dataframe\">\n",
              "  <thead>\n",
              "    <tr style=\"text-align: right;\">\n",
              "      <th></th>\n",
              "      <th>count</th>\n",
              "      <th>mean</th>\n",
              "      <th>std</th>\n",
              "      <th>min</th>\n",
              "      <th>25%</th>\n",
              "      <th>50%</th>\n",
              "      <th>75%</th>\n",
              "      <th>max</th>\n",
              "    </tr>\n",
              "    <tr>\n",
              "      <th>fuel-type</th>\n",
              "      <th></th>\n",
              "      <th></th>\n",
              "      <th></th>\n",
              "      <th></th>\n",
              "      <th></th>\n",
              "      <th></th>\n",
              "      <th></th>\n",
              "      <th></th>\n",
              "    </tr>\n",
              "  </thead>\n",
              "  <tbody>\n",
              "    <tr>\n",
              "      <th>diesel</th>\n",
              "      <td>20.0</td>\n",
              "      <td>15838.15000</td>\n",
              "      <td>7759.843713</td>\n",
              "      <td>7099.0</td>\n",
              "      <td>9120.0</td>\n",
              "      <td>13852.5</td>\n",
              "      <td>19375.5</td>\n",
              "      <td>31600.0</td>\n",
              "    </tr>\n",
              "    <tr>\n",
              "      <th>gas</th>\n",
              "      <td>181.0</td>\n",
              "      <td>12916.40884</td>\n",
              "      <td>7934.923212</td>\n",
              "      <td>5118.0</td>\n",
              "      <td>7609.0</td>\n",
              "      <td>9989.0</td>\n",
              "      <td>15985.0</td>\n",
              "      <td>45400.0</td>\n",
              "    </tr>\n",
              "  </tbody>\n",
              "</table>\n",
              "</div>"
            ],
            "text/plain": [
              "           count         mean          std     min     25%      50%      75%   \n",
              "fuel-type                                                                      \n",
              "diesel      20.0  15838.15000  7759.843713  7099.0  9120.0  13852.5  19375.5  \\\n",
              "gas        181.0  12916.40884  7934.923212  5118.0  7609.0   9989.0  15985.0   \n",
              "\n",
              "               max  \n",
              "fuel-type           \n",
              "diesel     31600.0  \n",
              "gas        45400.0  "
            ]
          },
          "execution_count": 21,
          "metadata": {},
          "output_type": "execute_result"
        }
      ],
      "source": [
        "statics_price_by_fueltype = df_autos.groupby('fuel-type').describe()['price']\n",
        "statics_price_by_fueltype"
      ]
    },
    {
      "cell_type": "code",
      "execution_count": 22,
      "id": "o20C-s5iWkWb",
      "metadata": {
        "id": "o20C-s5iWkWb"
      },
      "outputs": [
        {
          "name": "stdout",
          "output_type": "stream",
          "text": [
            "Rango intercuartil:\n",
            " RIC_Gas = 8376.00\n",
            " RIC_Diesel = 10255.50\n"
          ]
        }
      ],
      "source": [
        "ric_gas = statics_price_by_fueltype['75%'][1] - statics_price_by_fueltype['25%'][1]\n",
        "ric_diesel = statics_price_by_fueltype['75%'][0] - statics_price_by_fueltype['25%'][0]\n",
        "print('Rango intercuartil:\\n RIC_Gas = %.2f\\n RIC_Diesel = %.2f' % (ric_gas, ric_diesel))"
      ]
    },
    {
      "cell_type": "code",
      "execution_count": 23,
      "id": "Tl4fTjb-hlzm",
      "metadata": {
        "id": "Tl4fTjb-hlzm"
      },
      "outputs": [
        {
          "data": {
            "text/html": [
              "<div>\n",
              "<style scoped>\n",
              "    .dataframe tbody tr th:only-of-type {\n",
              "        vertical-align: middle;\n",
              "    }\n",
              "\n",
              "    .dataframe tbody tr th {\n",
              "        vertical-align: top;\n",
              "    }\n",
              "\n",
              "    .dataframe thead th {\n",
              "        text-align: right;\n",
              "    }\n",
              "</style>\n",
              "<table border=\"1\" class=\"dataframe\">\n",
              "  <thead>\n",
              "    <tr style=\"text-align: right;\">\n",
              "      <th></th>\n",
              "      <th>normalized-losses</th>\n",
              "      <th>make</th>\n",
              "      <th>fuel-type</th>\n",
              "      <th>aspiration</th>\n",
              "      <th>num-of-doors</th>\n",
              "      <th>body-style</th>\n",
              "      <th>drive-wheels</th>\n",
              "      <th>engine-location</th>\n",
              "      <th>wheel-base</th>\n",
              "      <th>length</th>\n",
              "      <th>...</th>\n",
              "      <th>fuel-system</th>\n",
              "      <th>bore</th>\n",
              "      <th>stroke</th>\n",
              "      <th>compression-ratio</th>\n",
              "      <th>horsepower</th>\n",
              "      <th>peak-rpm</th>\n",
              "      <th>city-mpg</th>\n",
              "      <th>highway-mpg</th>\n",
              "      <th>price</th>\n",
              "      <th>symboling</th>\n",
              "    </tr>\n",
              "  </thead>\n",
              "  <tbody>\n",
              "    <tr>\n",
              "      <th>0</th>\n",
              "      <td>122.0</td>\n",
              "      <td>alfa-romero</td>\n",
              "      <td>gas</td>\n",
              "      <td>std</td>\n",
              "      <td>two</td>\n",
              "      <td>convertible</td>\n",
              "      <td>rwd</td>\n",
              "      <td>front</td>\n",
              "      <td>88.6</td>\n",
              "      <td>168.8</td>\n",
              "      <td>...</td>\n",
              "      <td>mpfi</td>\n",
              "      <td>3.47</td>\n",
              "      <td>2.68</td>\n",
              "      <td>9.0</td>\n",
              "      <td>111.0</td>\n",
              "      <td>5000.0</td>\n",
              "      <td>21</td>\n",
              "      <td>27</td>\n",
              "      <td>13495.0</td>\n",
              "      <td>3</td>\n",
              "    </tr>\n",
              "    <tr>\n",
              "      <th>1</th>\n",
              "      <td>122.0</td>\n",
              "      <td>alfa-romero</td>\n",
              "      <td>gas</td>\n",
              "      <td>std</td>\n",
              "      <td>two</td>\n",
              "      <td>convertible</td>\n",
              "      <td>rwd</td>\n",
              "      <td>front</td>\n",
              "      <td>88.6</td>\n",
              "      <td>168.8</td>\n",
              "      <td>...</td>\n",
              "      <td>mpfi</td>\n",
              "      <td>3.47</td>\n",
              "      <td>2.68</td>\n",
              "      <td>9.0</td>\n",
              "      <td>111.0</td>\n",
              "      <td>5000.0</td>\n",
              "      <td>21</td>\n",
              "      <td>27</td>\n",
              "      <td>16500.0</td>\n",
              "      <td>3</td>\n",
              "    </tr>\n",
              "    <tr>\n",
              "      <th>2</th>\n",
              "      <td>122.0</td>\n",
              "      <td>alfa-romero</td>\n",
              "      <td>gas</td>\n",
              "      <td>std</td>\n",
              "      <td>two</td>\n",
              "      <td>hatchback</td>\n",
              "      <td>rwd</td>\n",
              "      <td>front</td>\n",
              "      <td>94.5</td>\n",
              "      <td>171.2</td>\n",
              "      <td>...</td>\n",
              "      <td>mpfi</td>\n",
              "      <td>2.68</td>\n",
              "      <td>3.47</td>\n",
              "      <td>9.0</td>\n",
              "      <td>154.0</td>\n",
              "      <td>5000.0</td>\n",
              "      <td>19</td>\n",
              "      <td>26</td>\n",
              "      <td>16500.0</td>\n",
              "      <td>1</td>\n",
              "    </tr>\n",
              "    <tr>\n",
              "      <th>3</th>\n",
              "      <td>164.0</td>\n",
              "      <td>audi</td>\n",
              "      <td>gas</td>\n",
              "      <td>std</td>\n",
              "      <td>four</td>\n",
              "      <td>sedan</td>\n",
              "      <td>fwd</td>\n",
              "      <td>front</td>\n",
              "      <td>99.8</td>\n",
              "      <td>176.6</td>\n",
              "      <td>...</td>\n",
              "      <td>mpfi</td>\n",
              "      <td>3.19</td>\n",
              "      <td>3.40</td>\n",
              "      <td>10.0</td>\n",
              "      <td>102.0</td>\n",
              "      <td>5500.0</td>\n",
              "      <td>24</td>\n",
              "      <td>30</td>\n",
              "      <td>13950.0</td>\n",
              "      <td>2</td>\n",
              "    </tr>\n",
              "    <tr>\n",
              "      <th>4</th>\n",
              "      <td>164.0</td>\n",
              "      <td>audi</td>\n",
              "      <td>gas</td>\n",
              "      <td>std</td>\n",
              "      <td>four</td>\n",
              "      <td>sedan</td>\n",
              "      <td>4wd</td>\n",
              "      <td>front</td>\n",
              "      <td>99.4</td>\n",
              "      <td>176.6</td>\n",
              "      <td>...</td>\n",
              "      <td>mpfi</td>\n",
              "      <td>3.19</td>\n",
              "      <td>3.40</td>\n",
              "      <td>8.0</td>\n",
              "      <td>115.0</td>\n",
              "      <td>5500.0</td>\n",
              "      <td>18</td>\n",
              "      <td>22</td>\n",
              "      <td>17450.0</td>\n",
              "      <td>2</td>\n",
              "    </tr>\n",
              "  </tbody>\n",
              "</table>\n",
              "<p>5 rows × 26 columns</p>\n",
              "</div>"
            ],
            "text/plain": [
              "   normalized-losses         make fuel-type aspiration num-of-doors   \n",
              "0              122.0  alfa-romero       gas        std          two  \\\n",
              "1              122.0  alfa-romero       gas        std          two   \n",
              "2              122.0  alfa-romero       gas        std          two   \n",
              "3              164.0         audi       gas        std         four   \n",
              "4              164.0         audi       gas        std         four   \n",
              "\n",
              "    body-style drive-wheels engine-location  wheel-base  length  ...   \n",
              "0  convertible          rwd           front        88.6   168.8  ...  \\\n",
              "1  convertible          rwd           front        88.6   168.8  ...   \n",
              "2    hatchback          rwd           front        94.5   171.2  ...   \n",
              "3        sedan          fwd           front        99.8   176.6  ...   \n",
              "4        sedan          4wd           front        99.4   176.6  ...   \n",
              "\n",
              "   fuel-system  bore  stroke compression-ratio horsepower  peak-rpm city-mpg   \n",
              "0         mpfi  3.47    2.68               9.0      111.0    5000.0       21  \\\n",
              "1         mpfi  3.47    2.68               9.0      111.0    5000.0       21   \n",
              "2         mpfi  2.68    3.47               9.0      154.0    5000.0       19   \n",
              "3         mpfi  3.19    3.40              10.0      102.0    5500.0       24   \n",
              "4         mpfi  3.19    3.40               8.0      115.0    5500.0       18   \n",
              "\n",
              "   highway-mpg    price  symboling  \n",
              "0           27  13495.0          3  \n",
              "1           27  16500.0          3  \n",
              "2           26  16500.0          1  \n",
              "3           30  13950.0          2  \n",
              "4           22  17450.0          2  \n",
              "\n",
              "[5 rows x 26 columns]"
            ]
          },
          "execution_count": 23,
          "metadata": {},
          "output_type": "execute_result"
        }
      ],
      "source": [
        "df_autos.head()"
      ]
    },
    {
      "cell_type": "code",
      "execution_count": 24,
      "id": "pboxtRKfeY6V",
      "metadata": {
        "id": "pboxtRKfeY6V"
      },
      "outputs": [
        {
          "data": {
            "text/html": [
              "<div>\n",
              "<style scoped>\n",
              "    .dataframe tbody tr th:only-of-type {\n",
              "        vertical-align: middle;\n",
              "    }\n",
              "\n",
              "    .dataframe tbody tr th {\n",
              "        vertical-align: top;\n",
              "    }\n",
              "\n",
              "    .dataframe thead th {\n",
              "        text-align: right;\n",
              "    }\n",
              "</style>\n",
              "<table border=\"1\" class=\"dataframe\">\n",
              "  <thead>\n",
              "    <tr style=\"text-align: right;\">\n",
              "      <th></th>\n",
              "      <th>fuel-type</th>\n",
              "      <th>price</th>\n",
              "    </tr>\n",
              "  </thead>\n",
              "  <tbody>\n",
              "    <tr>\n",
              "      <th>0</th>\n",
              "      <td>gas</td>\n",
              "      <td>13495.0</td>\n",
              "    </tr>\n",
              "    <tr>\n",
              "      <th>1</th>\n",
              "      <td>gas</td>\n",
              "      <td>16500.0</td>\n",
              "    </tr>\n",
              "    <tr>\n",
              "      <th>2</th>\n",
              "      <td>gas</td>\n",
              "      <td>16500.0</td>\n",
              "    </tr>\n",
              "    <tr>\n",
              "      <th>3</th>\n",
              "      <td>gas</td>\n",
              "      <td>13950.0</td>\n",
              "    </tr>\n",
              "    <tr>\n",
              "      <th>4</th>\n",
              "      <td>gas</td>\n",
              "      <td>17450.0</td>\n",
              "    </tr>\n",
              "    <tr>\n",
              "      <th>...</th>\n",
              "      <td>...</td>\n",
              "      <td>...</td>\n",
              "    </tr>\n",
              "    <tr>\n",
              "      <th>200</th>\n",
              "      <td>gas</td>\n",
              "      <td>16845.0</td>\n",
              "    </tr>\n",
              "    <tr>\n",
              "      <th>201</th>\n",
              "      <td>gas</td>\n",
              "      <td>19045.0</td>\n",
              "    </tr>\n",
              "    <tr>\n",
              "      <th>202</th>\n",
              "      <td>gas</td>\n",
              "      <td>21485.0</td>\n",
              "    </tr>\n",
              "    <tr>\n",
              "      <th>203</th>\n",
              "      <td>diesel</td>\n",
              "      <td>22470.0</td>\n",
              "    </tr>\n",
              "    <tr>\n",
              "      <th>204</th>\n",
              "      <td>gas</td>\n",
              "      <td>22625.0</td>\n",
              "    </tr>\n",
              "  </tbody>\n",
              "</table>\n",
              "<p>205 rows × 2 columns</p>\n",
              "</div>"
            ],
            "text/plain": [
              "    fuel-type    price\n",
              "0         gas  13495.0\n",
              "1         gas  16500.0\n",
              "2         gas  16500.0\n",
              "3         gas  13950.0\n",
              "4         gas  17450.0\n",
              "..        ...      ...\n",
              "200       gas  16845.0\n",
              "201       gas  19045.0\n",
              "202       gas  21485.0\n",
              "203    diesel  22470.0\n",
              "204       gas  22625.0\n",
              "\n",
              "[205 rows x 2 columns]"
            ]
          },
          "execution_count": 24,
          "metadata": {},
          "output_type": "execute_result"
        }
      ],
      "source": [
        "df_autos_reduced = df_autos.drop(\n",
        "    ['symboling', 'normalized-losses', 'make', 'aspiration', 'num-of-doors',\n",
        "     'body-style', 'drive-wheels', 'engine-location', 'wheel-base', 'length',\n",
        "     'width', 'height', 'curb-weight', 'engine-type', 'num-of-cylinders',\n",
        "     'engine-size', 'fuel-system', 'bore', 'stroke', 'compression-ratio',\n",
        "     'horsepower', 'peak-rpm', 'city-mpg', 'highway-mpg'], axis=1)\n",
        "df_autos_reduced"
      ]
    },
    {
      "cell_type": "code",
      "execution_count": 25,
      "id": "8MrJM7eTguFs",
      "metadata": {
        "id": "8MrJM7eTguFs"
      },
      "outputs": [
        {
          "data": {
            "text/html": [
              "<div>\n",
              "<style scoped>\n",
              "    .dataframe tbody tr th:only-of-type {\n",
              "        vertical-align: middle;\n",
              "    }\n",
              "\n",
              "    .dataframe tbody tr th {\n",
              "        vertical-align: top;\n",
              "    }\n",
              "\n",
              "    .dataframe thead th {\n",
              "        text-align: right;\n",
              "    }\n",
              "</style>\n",
              "<table border=\"1\" class=\"dataframe\">\n",
              "  <thead>\n",
              "    <tr style=\"text-align: right;\">\n",
              "      <th></th>\n",
              "      <th>price</th>\n",
              "    </tr>\n",
              "  </thead>\n",
              "  <tbody>\n",
              "    <tr>\n",
              "      <th>count</th>\n",
              "      <td>181.000000</td>\n",
              "    </tr>\n",
              "    <tr>\n",
              "      <th>mean</th>\n",
              "      <td>12916.408840</td>\n",
              "    </tr>\n",
              "    <tr>\n",
              "      <th>std</th>\n",
              "      <td>7934.923212</td>\n",
              "    </tr>\n",
              "    <tr>\n",
              "      <th>min</th>\n",
              "      <td>5118.000000</td>\n",
              "    </tr>\n",
              "    <tr>\n",
              "      <th>25%</th>\n",
              "      <td>7609.000000</td>\n",
              "    </tr>\n",
              "    <tr>\n",
              "      <th>50%</th>\n",
              "      <td>9989.000000</td>\n",
              "    </tr>\n",
              "    <tr>\n",
              "      <th>75%</th>\n",
              "      <td>15985.000000</td>\n",
              "    </tr>\n",
              "    <tr>\n",
              "      <th>max</th>\n",
              "      <td>45400.000000</td>\n",
              "    </tr>\n",
              "  </tbody>\n",
              "</table>\n",
              "</div>"
            ],
            "text/plain": [
              "              price\n",
              "count    181.000000\n",
              "mean   12916.408840\n",
              "std     7934.923212\n",
              "min     5118.000000\n",
              "25%     7609.000000\n",
              "50%     9989.000000\n",
              "75%    15985.000000\n",
              "max    45400.000000"
            ]
          },
          "execution_count": 25,
          "metadata": {},
          "output_type": "execute_result"
        }
      ],
      "source": [
        "gas_cars = df_autos_reduced.drop(df_autos[df_autos['fuel-type'] != 'gas'].index)\n",
        "gas_cars.describe()"
      ]
    },
    {
      "cell_type": "code",
      "execution_count": 26,
      "id": "q8xQQ1VJjSJP",
      "metadata": {
        "id": "q8xQQ1VJjSJP"
      },
      "outputs": [
        {
          "data": {
            "text/html": [
              "<div>\n",
              "<style scoped>\n",
              "    .dataframe tbody tr th:only-of-type {\n",
              "        vertical-align: middle;\n",
              "    }\n",
              "\n",
              "    .dataframe tbody tr th {\n",
              "        vertical-align: top;\n",
              "    }\n",
              "\n",
              "    .dataframe thead th {\n",
              "        text-align: right;\n",
              "    }\n",
              "</style>\n",
              "<table border=\"1\" class=\"dataframe\">\n",
              "  <thead>\n",
              "    <tr style=\"text-align: right;\">\n",
              "      <th></th>\n",
              "      <th>price</th>\n",
              "    </tr>\n",
              "  </thead>\n",
              "  <tbody>\n",
              "    <tr>\n",
              "      <th>count</th>\n",
              "      <td>20.000000</td>\n",
              "    </tr>\n",
              "    <tr>\n",
              "      <th>mean</th>\n",
              "      <td>15838.150000</td>\n",
              "    </tr>\n",
              "    <tr>\n",
              "      <th>std</th>\n",
              "      <td>7759.843713</td>\n",
              "    </tr>\n",
              "    <tr>\n",
              "      <th>min</th>\n",
              "      <td>7099.000000</td>\n",
              "    </tr>\n",
              "    <tr>\n",
              "      <th>25%</th>\n",
              "      <td>9120.000000</td>\n",
              "    </tr>\n",
              "    <tr>\n",
              "      <th>50%</th>\n",
              "      <td>13852.500000</td>\n",
              "    </tr>\n",
              "    <tr>\n",
              "      <th>75%</th>\n",
              "      <td>19375.500000</td>\n",
              "    </tr>\n",
              "    <tr>\n",
              "      <th>max</th>\n",
              "      <td>31600.000000</td>\n",
              "    </tr>\n",
              "  </tbody>\n",
              "</table>\n",
              "</div>"
            ],
            "text/plain": [
              "              price\n",
              "count     20.000000\n",
              "mean   15838.150000\n",
              "std     7759.843713\n",
              "min     7099.000000\n",
              "25%     9120.000000\n",
              "50%    13852.500000\n",
              "75%    19375.500000\n",
              "max    31600.000000"
            ]
          },
          "execution_count": 26,
          "metadata": {},
          "output_type": "execute_result"
        }
      ],
      "source": [
        "diesel_cars = df_autos_reduced.drop(df_autos[df_autos['fuel-type'] != 'diesel'].index)\n",
        "diesel_cars.describe()"
      ]
    },
    {
      "cell_type": "code",
      "execution_count": 27,
      "id": "3-TW7GqWnRgY",
      "metadata": {
        "id": "3-TW7GqWnRgY"
      },
      "outputs": [
        {
          "name": "stdout",
          "output_type": "stream",
          "text": [
            "Límite inferior:  nan\n",
            "Límite superior:  nan\n"
          ]
        }
      ],
      "source": [
        "#LIMITES INFERIOR Y SUPERIOR, AUTOS A NAFTA\n",
        "q1 = numpy.quantile(gas_cars.price, 0.25)\n",
        "q3 = numpy.quantile(gas_cars.price, 0.75)\n",
        "ric = q3 - q1\n",
        "lim_inf = q1 - 1.5 * ric\n",
        "lim_sup = q3 + 1.5 * ric\n",
        "print('Límite inferior: ', lim_inf)\n",
        "print('Límite superior: ', lim_sup)"
      ]
    },
    {
      "cell_type": "code",
      "execution_count": 28,
      "id": "EfrGvHATeK0h",
      "metadata": {
        "colab": {
          "base_uri": "https://localhost:8080/"
        },
        "id": "EfrGvHATeK0h",
        "outputId": "36e4da9c-f263-49c1-8969-0d621c9e0226"
      },
      "outputs": [
        {
          "name": "stdout",
          "output_type": "stream",
          "text": [
            "None\n",
            "None\n"
          ]
        }
      ],
      "source": [
        "#BIGOTES AUTOS A NAFTA\n",
        "big_inf = None\n",
        "big_sup = None\n",
        "#ordeno la columna para empezar a buscar en sus extremos\n",
        "price_list = (gas_cars['price'].sort_values(ascending=True)).tolist()\n",
        "for p in price_list:\n",
        "  if (p >= lim_inf) and (p <= lim_sup):\n",
        "    big_inf = p\n",
        "    break\n",
        "for p in reversed(price_list):\n",
        "  if (p >= lim_inf) and (p <= lim_sup):\n",
        "    big_sup = p\n",
        "    break\n",
        "print(big_inf)\n",
        "print(big_sup)"
      ]
    },
    {
      "cell_type": "code",
      "execution_count": 29,
      "id": "BWpnLYhboIRc",
      "metadata": {
        "colab": {
          "base_uri": "https://localhost:8080/"
        },
        "id": "BWpnLYhboIRc",
        "outputId": "50cbc60a-72c5-41ee-a1a9-88a8dfcaa93f"
      },
      "outputs": [
        {
          "name": "stdout",
          "output_type": "stream",
          "text": [
            "Límite inferior:  -6263.25\n",
            "Límite superior:  34758.75\n"
          ]
        }
      ],
      "source": [
        "#LIMITES INFERIOR Y SUPERIOR, AUTOS A DIESEL\n",
        "q1 = numpy.quantile(diesel_cars.price, 0.25)\n",
        "q3 = numpy.quantile(diesel_cars.price, 0.75)\n",
        "ric = q3 - q1\n",
        "lim_inf = q1 - 1.5 * ric\n",
        "lim_sup = q3 + 1.5 * ric\n",
        "print('Límite inferior: ', lim_inf)\n",
        "print('Límite superior: ', lim_sup)"
      ]
    },
    {
      "cell_type": "code",
      "execution_count": 30,
      "id": "XKQomVrIoR0g",
      "metadata": {
        "colab": {
          "base_uri": "https://localhost:8080/"
        },
        "id": "XKQomVrIoR0g",
        "outputId": "508954fc-ac71-4b41-c2ff-3bfc24d5e8bb"
      },
      "outputs": [
        {
          "name": "stdout",
          "output_type": "stream",
          "text": [
            "7099.0\n",
            "31600.0\n"
          ]
        }
      ],
      "source": [
        "#BIGOTES AUTOS A DIESEL\n",
        "big_inf = None\n",
        "big_sup = None\n",
        "#ordeno la columna para empezar a buscar en sus extremos\n",
        "price_list = (diesel_cars['price'].sort_values(ascending=True)).tolist()\n",
        "for p in price_list:\n",
        "  if (p >= lim_inf) and (p <= lim_sup):\n",
        "    big_inf = p\n",
        "    break\n",
        "for p in reversed(price_list):\n",
        "  if (p >= lim_inf) and (p <= lim_sup):\n",
        "    big_sup = p\n",
        "    break\n",
        "print(big_inf)\n",
        "print(big_sup)"
      ]
    },
    {
      "attachments": {},
      "cell_type": "markdown",
      "id": "URmrS-MiB--O",
      "metadata": {
        "id": "URmrS-MiB--O"
      },
      "source": [
        "**curb-weight y highway-mpg**"
      ]
    },
    {
      "cell_type": "code",
      "execution_count": 31,
      "id": "IQCpUFM2B_XP",
      "metadata": {
        "colab": {
          "base_uri": "https://localhost:8080/"
        },
        "id": "IQCpUFM2B_XP",
        "outputId": "025b3455-b4b7-4a7d-db48-a993b5ff2d91"
      },
      "outputs": [
        {
          "name": "stdout",
          "output_type": "stream",
          "text": [
            "curb-weight    int64\n",
            "highway-mpg    int64\n",
            "dtype: object\n"
          ]
        }
      ],
      "source": [
        "# Filtro las columnas que me interesan y chequeo el tipo\n",
        "df_curbwight_and_highwaympg = df_autos.drop(\n",
        "    ['symboling', 'normalized-losses', 'make', 'aspiration', 'num-of-doors',\n",
        "     'body-style', 'drive-wheels', 'engine-location', 'wheel-base', 'length',\n",
        "     'width', 'height', 'engine-type', 'num-of-cylinders', 'engine-size',\n",
        "     'fuel-system', 'bore', 'stroke', 'compression-ratio', 'horsepower',\n",
        "     'peak-rpm', 'city-mpg', 'price', 'fuel-type'], axis=1)\n",
        "print(df_curbwight_and_highwaympg.dtypes)"
      ]
    },
    {
      "cell_type": "code",
      "execution_count": 32,
      "id": "8iSaEfQZGiOA",
      "metadata": {
        "colab": {
          "base_uri": "https://localhost:8080/"
        },
        "id": "8iSaEfQZGiOA",
        "outputId": "77d8f07e-2bf9-4a9e-9afb-c44a2eafbb63"
      },
      "outputs": [
        {
          "name": "stdout",
          "output_type": "stream",
          "text": [
            "             curb-weight  highway-mpg\n",
            "curb-weight     1.000000    -0.797465\n",
            "highway-mpg    -0.797465     1.000000\n"
          ]
        }
      ],
      "source": [
        "# CALCULO EL COEF. DE CORRELACIÓN LINEAL\n",
        "coef_corr_lineal = df_curbwight_and_highwaympg.corr()\n",
        "print(coef_corr_lineal)"
      ]
    },
    {
      "attachments": {},
      "cell_type": "markdown",
      "id": "3a6d5f14",
      "metadata": {
        "id": "3a6d5f14"
      },
      "source": [
        "**GRAFICOS**\n",
        "\n",
        "**Diagrama de Barras**"
      ]
    },
    {
      "cell_type": "code",
      "execution_count": 33,
      "id": "-jShioYyOVb_",
      "metadata": {
        "colab": {
          "base_uri": "https://localhost:8080/",
          "height": 281
        },
        "id": "-jShioYyOVb_",
        "outputId": "06d72eaa-2919-4e86-c855-e10aa5fe678f"
      },
      "outputs": [
        {
          "data": {
            "image/png": "[encoded data removed]",
            "text/plain": [
              "<Figure size 640x480 with 1 Axes>"
            ]
          },
          "metadata": {},
          "output_type": "display_data"
        }
      ],
      "source": [
        "makes_list = pandas.value_counts(df_autos['body-style'])\n",
        "matplot.figure()\n",
        "matplot.bar(numpy.arange(len(makes_list)), makes_list)\n",
        "matplot.title('Body Style')\n",
        "matplot.ylabel('Frequency')\n",
        "matplot.xticks(numpy.arange(len(makes_list)), makes_list.index)\n",
        "matplot.show()"
      ]
    },
    {
      "cell_type": "code",
      "execution_count": 34,
      "id": "6be51f22",
      "metadata": {
        "colab": {
          "base_uri": "https://localhost:8080/",
          "height": 281
        },
        "id": "6be51f22",
        "outputId": "b5cc8ca6-f48b-4bf1-9a0b-eaf2784bccb2"
      },
      "outputs": [
        {
          "data": {
            "image/png": "[encoded data removed]",
            "text/plain": [
              "<Figure size 640x480 with 1 Axes>"
            ]
          },
          "metadata": {},
          "output_type": "display_data"
        }
      ],
      "source": [
        "fuel_type_list = pandas.value_counts(df_autos['fuel-type'])\n",
        "matplot.figure()\n",
        "N = len(fuel_type_list)\n",
        "matplot.bar(numpy.arange(N), fuel_type_list)  # Build the bar\n",
        "matplot.title('Fuel Type')\n",
        "matplot.ylabel('Frequency')\n",
        "matplot.xticks(numpy.arange( N ), fuel_type_list.index)\n",
        "matplot.show()\n"
      ]
    },
    {
      "attachments": {},
      "cell_type": "markdown",
      "id": "0ec03c45",
      "metadata": {
        "id": "0ec03c45"
      },
      "source": [
        "**Gráfico de torta**"
      ]
    },
    {
      "cell_type": "code",
      "execution_count": 35,
      "id": "5fa6be8c",
      "metadata": {
        "colab": {
          "base_uri": "https://localhost:8080/",
          "height": 264
        },
        "id": "5fa6be8c",
        "outputId": "91e3189a-525b-4fb0-9382-3c5fd7439222"
      },
      "outputs": [
        {
          "data": {
            "image/png": "[encoded data removed]",
            "text/plain": [
              "<Figure size 640x480 with 1 Axes>"
            ]
          },
          "metadata": {},
          "output_type": "display_data"
        }
      ],
      "source": [
        "matplot.figure()\n",
        "porcion = pandas.value_counts(df_autos['drive-wheels'])\n",
        "matplot.pie(porcion,labels=porcion.index, autopct=\"%0.1f %%\")\n",
        "matplot.title('Drive Wheels')\n",
        "matplot.show()\n"
      ]
    },
    {
      "cell_type": "code",
      "execution_count": 36,
      "id": "MMiev23wE07B",
      "metadata": {
        "colab": {
          "base_uri": "https://localhost:8080/",
          "height": 264
        },
        "id": "MMiev23wE07B",
        "outputId": "6bdfcfde-01c6-4f07-c326-39f5c01737b2"
      },
      "outputs": [
        {
          "data": {
            "image/png": "[encoded data removed]",
            "text/plain": [
              "<Figure size 640x480 with 1 Axes>"
            ]
          },
          "metadata": {},
          "output_type": "display_data"
        }
      ],
      "source": [
        "matplot.figure()\n",
        "porcion = pandas.value_counts(df_autos['fuel-system'])\n",
        "matplot.pie(porcion, labels=porcion.index, autopct=\"%0.1f %%\")\n",
        "matplot.title('Fuel System')\n",
        "matplot.show()"
      ]
    },
    {
      "attachments": {},
      "cell_type": "markdown",
      "id": "ffa9abd3",
      "metadata": {
        "id": "ffa9abd3"
      },
      "source": [
        "**Histograma**"
      ]
    },
    {
      "cell_type": "code",
      "execution_count": 37,
      "id": "19b8fb4d",
      "metadata": {
        "colab": {
          "base_uri": "https://localhost:8080/",
          "height": 295
        },
        "id": "19b8fb4d",
        "outputId": "d4ab8619-01d5-41b8-9d28-7522312f93e6"
      },
      "outputs": [
        {
          "data": {
            "image/png": "[encoded data removed]",
            "text/plain": [
              "<Figure size 640x480 with 1 Axes>"
            ]
          },
          "metadata": {},
          "output_type": "display_data"
        }
      ],
      "source": [
        "matplot.figure()\n",
        "matplot.hist(df_autos['symboling'], bins = 10, edgecolor = 'black', linewidth=1)\n",
        "matplot.xlabel('Symboling')\n",
        "matplot.ylabel('Frequency')\n",
        "matplot.title('Symboling Histogram')\n",
        "matplot.show()\n"
      ]
    },
    {
      "attachments": {},
      "cell_type": "markdown",
      "id": "U4UR73mVgzfX",
      "metadata": {
        "id": "U4UR73mVgzfX"
      },
      "source": [
        "**Diagrama de caja**"
      ]
    },
    {
      "cell_type": "code",
      "execution_count": 38,
      "id": "NOYGmnhwtt7R",
      "metadata": {
        "colab": {
          "base_uri": "https://localhost:8080/"
        },
        "id": "NOYGmnhwtt7R",
        "outputId": "fb6ec49b-3792-4e4f-f19e-99cbed03f4f4"
      },
      "outputs": [
        {
          "name": "stdout",
          "output_type": "stream",
          "text": [
            "Q1 =  9120.0\n",
            "Q2 =  95.0\n",
            "Q3 =  19375.5\n"
          ]
        }
      ],
      "source": [
        "print('Q1 = ', q1)\n",
        "print('Q2 = ', mediana)\n",
        "print('Q3 = ', q3)"
      ]
    },
    {
      "cell_type": "code",
      "execution_count": 39,
      "id": "1aSBig-CjYHa",
      "metadata": {
        "colab": {
          "base_uri": "https://localhost:8080/",
          "height": 282
        },
        "id": "1aSBig-CjYHa",
        "outputId": "8d2974eb-b125-4557-d1d6-27f4c07a8f09"
      },
      "outputs": [
        {
          "data": {
            "text/plain": [
              "<Axes: >"
            ]
          },
          "execution_count": 39,
          "metadata": {},
          "output_type": "execute_result"
        },
        {
          "data": {
            "image/png": "[encoded data removed]",
            "text/plain": [
              "<Figure size 640x480 with 1 Axes>"
            ]
          },
          "metadata": {},
          "output_type": "display_data"
        }
      ],
      "source": [
        "df_autos.boxplot(column=['engine-size'], vert=False)"
      ]
    },
    {
      "attachments": {},
      "cell_type": "markdown",
      "id": "S726rw_vm5LF",
      "metadata": {
        "id": "S726rw_vm5LF"
      },
      "source": [
        "**Diagrama dispersión**"
      ]
    },
    {
      "cell_type": "code",
      "execution_count": 40,
      "id": "TMfHatVGm5f5",
      "metadata": {
        "colab": {
          "base_uri": "https://localhost:8080/",
          "height": 279
        },
        "id": "TMfHatVGm5f5",
        "outputId": "cb4d80fa-662f-4403-a93c-67bfa6b4b174"
      },
      "outputs": [
        {
          "data": {
            "image/png": "[encoded data removed]",
            "text/plain": [
              "<Figure size 640x480 with 1 Axes>"
            ]
          },
          "metadata": {},
          "output_type": "display_data"
        }
      ],
      "source": [
        "matplot.figure()\n",
        "matplot.scatter(df_autos['width'], df_autos['length'])\n",
        "matplot.xlabel('width')\n",
        "matplot.ylabel('length')\n",
        "matplot.show()"
      ]
    },
    {
      "attachments": {},
      "cell_type": "markdown",
      "id": "I1hpqe-JB68Z",
      "metadata": {
        "id": "I1hpqe-JB68Z"
      },
      "source": [
        "**DISCRETIZACIÓN**"
      ]
    },
    {
      "attachments": {},
      "cell_type": "markdown",
      "id": "5YXy6RqbB-nw",
      "metadata": {
        "id": "5YXy6RqbB-nw"
      },
      "source": [
        "**engince-size**"
      ]
    },
    {
      "cell_type": "code",
      "execution_count": 41,
      "id": "P5oVPZMxkBa_",
      "metadata": {
        "colab": {
          "base_uri": "https://localhost:8080/"
        },
        "id": "P5oVPZMxkBa_",
        "outputId": "f861fdab-1cda-43f2-e34c-641920e765b3"
      },
      "outputs": [
        {
          "name": "stdout",
          "output_type": "stream",
          "text": [
            "205\n"
          ]
        }
      ],
      "source": [
        "print(len(df_autos['engine-size']))"
      ]
    },
    {
      "cell_type": "code",
      "execution_count": 42,
      "id": "BnzPE9cZ6cma",
      "metadata": {
        "colab": {
          "base_uri": "https://localhost:8080/"
        },
        "id": "BnzPE9cZ6cma",
        "outputId": "b61e48da-f138-462e-87cc-41c671f1d505"
      },
      "outputs": [
        {
          "data": {
            "text/plain": [
              "132"
            ]
          },
          "execution_count": 42,
          "metadata": {},
          "output_type": "execute_result"
        }
      ],
      "source": [
        "split_point = int((df_autos['engine-size'].max() - df_autos['engine-size'].min()) / 2)\n",
        "split_point"
      ]
    },
    {
      "cell_type": "code",
      "execution_count": 43,
      "id": "5-vlTSlyCW7Q",
      "metadata": {
        "colab": {
          "base_uri": "https://localhost:8080/"
        },
        "id": "5-vlTSlyCW7Q",
        "outputId": "a68a07bb-aa2b-4090-f4f6-d49f33dfcf2b"
      },
      "outputs": [
        {
          "name": "stdout",
          "output_type": "stream",
          "text": [
            "engine-size_discretized\n",
            "small    138\n",
            "big       67\n",
            "Name: count, dtype: int64\n"
          ]
        }
      ],
      "source": [
        "# Discretización por rango\n",
        "column = pandas.cut(df_autos['engine-size'], bins=[-math.inf, split_point, math.inf], labels=['small', 'big'])\n",
        "df_autos['engine-size_discretized'] = pandas.Series.to_frame(column)\n",
        "print(pandas.value_counts(df_autos['engine-size_discretized']))"
      ]
    },
    {
      "cell_type": "code",
      "execution_count": 44,
      "id": "PZHV92VSDQLY",
      "metadata": {
        "colab": {
          "base_uri": "https://localhost:8080/"
        },
        "id": "PZHV92VSDQLY",
        "outputId": "59c274da-2625-446f-a64d-fd97365c1eeb"
      },
      "outputs": [
        {
          "name": "stdout",
          "output_type": "stream",
          "text": [
            "engine-size_discretized\n",
            "big      105\n",
            "small    100\n",
            "Name: count, dtype: int64\n"
          ]
        }
      ],
      "source": [
        "# Discretización por frecuencia (con valores repetidos)\n",
        "column = pandas.cut(df_autos['engine-size'], bins=[-math.inf, 110, math.inf], labels=['small', 'big'])\n",
        "df_autos['engine-size_discretized'] = pandas.Series.to_frame(column)\n",
        "print(pandas.value_counts(df_autos['engine-size_discretized']))"
      ]
    },
    {
      "cell_type": "code",
      "execution_count": 45,
      "id": "Mk2r8zgd2YAR",
      "metadata": {
        "id": "Mk2r8zgd2YAR"
      },
      "outputs": [
        {
          "data": {
            "text/html": [
              "<div>\n",
              "<style scoped>\n",
              "    .dataframe tbody tr th:only-of-type {\n",
              "        vertical-align: middle;\n",
              "    }\n",
              "\n",
              "    .dataframe tbody tr th {\n",
              "        vertical-align: top;\n",
              "    }\n",
              "\n",
              "    .dataframe thead th {\n",
              "        text-align: right;\n",
              "    }\n",
              "</style>\n",
              "<table border=\"1\" class=\"dataframe\">\n",
              "  <thead>\n",
              "    <tr style=\"text-align: right;\">\n",
              "      <th></th>\n",
              "      <th>normalized-losses</th>\n",
              "      <th>make</th>\n",
              "      <th>fuel-type</th>\n",
              "      <th>aspiration</th>\n",
              "      <th>num-of-doors</th>\n",
              "      <th>body-style</th>\n",
              "      <th>drive-wheels</th>\n",
              "      <th>engine-location</th>\n",
              "      <th>wheel-base</th>\n",
              "      <th>length</th>\n",
              "      <th>...</th>\n",
              "      <th>bore</th>\n",
              "      <th>stroke</th>\n",
              "      <th>compression-ratio</th>\n",
              "      <th>horsepower</th>\n",
              "      <th>peak-rpm</th>\n",
              "      <th>city-mpg</th>\n",
              "      <th>highway-mpg</th>\n",
              "      <th>price</th>\n",
              "      <th>symboling</th>\n",
              "      <th>engine-size_discretized</th>\n",
              "    </tr>\n",
              "  </thead>\n",
              "  <tbody>\n",
              "    <tr>\n",
              "      <th>37</th>\n",
              "      <td>106.0</td>\n",
              "      <td>honda</td>\n",
              "      <td>gas</td>\n",
              "      <td>std</td>\n",
              "      <td>two</td>\n",
              "      <td>hatchback</td>\n",
              "      <td>fwd</td>\n",
              "      <td>front</td>\n",
              "      <td>96.5</td>\n",
              "      <td>167.5</td>\n",
              "      <td>...</td>\n",
              "      <td>3.15</td>\n",
              "      <td>3.58</td>\n",
              "      <td>9.0</td>\n",
              "      <td>86.0</td>\n",
              "      <td>5800.0</td>\n",
              "      <td>27</td>\n",
              "      <td>33</td>\n",
              "      <td>7895.0</td>\n",
              "      <td>0</td>\n",
              "      <td>small</td>\n",
              "    </tr>\n",
              "    <tr>\n",
              "      <th>38</th>\n",
              "      <td>106.0</td>\n",
              "      <td>honda</td>\n",
              "      <td>gas</td>\n",
              "      <td>std</td>\n",
              "      <td>two</td>\n",
              "      <td>hatchback</td>\n",
              "      <td>fwd</td>\n",
              "      <td>front</td>\n",
              "      <td>96.5</td>\n",
              "      <td>167.5</td>\n",
              "      <td>...</td>\n",
              "      <td>3.15</td>\n",
              "      <td>3.58</td>\n",
              "      <td>9.0</td>\n",
              "      <td>86.0</td>\n",
              "      <td>5800.0</td>\n",
              "      <td>27</td>\n",
              "      <td>33</td>\n",
              "      <td>9095.0</td>\n",
              "      <td>0</td>\n",
              "      <td>small</td>\n",
              "    </tr>\n",
              "    <tr>\n",
              "      <th>39</th>\n",
              "      <td>85.0</td>\n",
              "      <td>honda</td>\n",
              "      <td>gas</td>\n",
              "      <td>std</td>\n",
              "      <td>four</td>\n",
              "      <td>sedan</td>\n",
              "      <td>fwd</td>\n",
              "      <td>front</td>\n",
              "      <td>96.5</td>\n",
              "      <td>175.4</td>\n",
              "      <td>...</td>\n",
              "      <td>3.15</td>\n",
              "      <td>3.58</td>\n",
              "      <td>9.0</td>\n",
              "      <td>86.0</td>\n",
              "      <td>5800.0</td>\n",
              "      <td>27</td>\n",
              "      <td>33</td>\n",
              "      <td>8845.0</td>\n",
              "      <td>0</td>\n",
              "      <td>small</td>\n",
              "    </tr>\n",
              "    <tr>\n",
              "      <th>40</th>\n",
              "      <td>85.0</td>\n",
              "      <td>honda</td>\n",
              "      <td>gas</td>\n",
              "      <td>std</td>\n",
              "      <td>four</td>\n",
              "      <td>sedan</td>\n",
              "      <td>fwd</td>\n",
              "      <td>front</td>\n",
              "      <td>96.5</td>\n",
              "      <td>175.4</td>\n",
              "      <td>...</td>\n",
              "      <td>3.15</td>\n",
              "      <td>3.58</td>\n",
              "      <td>9.0</td>\n",
              "      <td>86.0</td>\n",
              "      <td>5800.0</td>\n",
              "      <td>27</td>\n",
              "      <td>33</td>\n",
              "      <td>10295.0</td>\n",
              "      <td>0</td>\n",
              "      <td>small</td>\n",
              "    </tr>\n",
              "    <tr>\n",
              "      <th>41</th>\n",
              "      <td>85.0</td>\n",
              "      <td>honda</td>\n",
              "      <td>gas</td>\n",
              "      <td>std</td>\n",
              "      <td>four</td>\n",
              "      <td>sedan</td>\n",
              "      <td>fwd</td>\n",
              "      <td>front</td>\n",
              "      <td>96.5</td>\n",
              "      <td>175.4</td>\n",
              "      <td>...</td>\n",
              "      <td>3.15</td>\n",
              "      <td>3.58</td>\n",
              "      <td>9.0</td>\n",
              "      <td>101.0</td>\n",
              "      <td>5800.0</td>\n",
              "      <td>24</td>\n",
              "      <td>28</td>\n",
              "      <td>12945.0</td>\n",
              "      <td>0</td>\n",
              "      <td>small</td>\n",
              "    </tr>\n",
              "    <tr>\n",
              "      <th>42</th>\n",
              "      <td>107.0</td>\n",
              "      <td>honda</td>\n",
              "      <td>gas</td>\n",
              "      <td>std</td>\n",
              "      <td>two</td>\n",
              "      <td>sedan</td>\n",
              "      <td>fwd</td>\n",
              "      <td>front</td>\n",
              "      <td>96.5</td>\n",
              "      <td>169.1</td>\n",
              "      <td>...</td>\n",
              "      <td>3.15</td>\n",
              "      <td>3.58</td>\n",
              "      <td>9.1</td>\n",
              "      <td>100.0</td>\n",
              "      <td>5500.0</td>\n",
              "      <td>25</td>\n",
              "      <td>31</td>\n",
              "      <td>10345.0</td>\n",
              "      <td>1</td>\n",
              "      <td>small</td>\n",
              "    </tr>\n",
              "    <tr>\n",
              "      <th>80</th>\n",
              "      <td>153.0</td>\n",
              "      <td>mitsubishi</td>\n",
              "      <td>gas</td>\n",
              "      <td>turbo</td>\n",
              "      <td>two</td>\n",
              "      <td>hatchback</td>\n",
              "      <td>fwd</td>\n",
              "      <td>front</td>\n",
              "      <td>96.3</td>\n",
              "      <td>173.0</td>\n",
              "      <td>...</td>\n",
              "      <td>3.17</td>\n",
              "      <td>3.46</td>\n",
              "      <td>7.5</td>\n",
              "      <td>116.0</td>\n",
              "      <td>5500.0</td>\n",
              "      <td>23</td>\n",
              "      <td>30</td>\n",
              "      <td>9959.0</td>\n",
              "      <td>3</td>\n",
              "      <td>small</td>\n",
              "    </tr>\n",
              "    <tr>\n",
              "      <th>87</th>\n",
              "      <td>125.0</td>\n",
              "      <td>mitsubishi</td>\n",
              "      <td>gas</td>\n",
              "      <td>turbo</td>\n",
              "      <td>four</td>\n",
              "      <td>sedan</td>\n",
              "      <td>fwd</td>\n",
              "      <td>front</td>\n",
              "      <td>96.3</td>\n",
              "      <td>172.4</td>\n",
              "      <td>...</td>\n",
              "      <td>3.17</td>\n",
              "      <td>3.46</td>\n",
              "      <td>7.5</td>\n",
              "      <td>116.0</td>\n",
              "      <td>5500.0</td>\n",
              "      <td>23</td>\n",
              "      <td>30</td>\n",
              "      <td>9279.0</td>\n",
              "      <td>1</td>\n",
              "      <td>small</td>\n",
              "    </tr>\n",
              "    <tr>\n",
              "      <th>88</th>\n",
              "      <td>137.0</td>\n",
              "      <td>mitsubishi</td>\n",
              "      <td>gas</td>\n",
              "      <td>std</td>\n",
              "      <td>four</td>\n",
              "      <td>sedan</td>\n",
              "      <td>fwd</td>\n",
              "      <td>front</td>\n",
              "      <td>96.3</td>\n",
              "      <td>172.4</td>\n",
              "      <td>...</td>\n",
              "      <td>3.17</td>\n",
              "      <td>3.46</td>\n",
              "      <td>7.5</td>\n",
              "      <td>116.0</td>\n",
              "      <td>5500.0</td>\n",
              "      <td>23</td>\n",
              "      <td>30</td>\n",
              "      <td>9279.0</td>\n",
              "      <td>-1</td>\n",
              "      <td>small</td>\n",
              "    </tr>\n",
              "    <tr>\n",
              "      <th>158</th>\n",
              "      <td>91.0</td>\n",
              "      <td>toyota</td>\n",
              "      <td>diesel</td>\n",
              "      <td>std</td>\n",
              "      <td>four</td>\n",
              "      <td>sedan</td>\n",
              "      <td>fwd</td>\n",
              "      <td>front</td>\n",
              "      <td>95.7</td>\n",
              "      <td>166.3</td>\n",
              "      <td>...</td>\n",
              "      <td>3.27</td>\n",
              "      <td>3.35</td>\n",
              "      <td>22.5</td>\n",
              "      <td>56.0</td>\n",
              "      <td>4500.0</td>\n",
              "      <td>34</td>\n",
              "      <td>36</td>\n",
              "      <td>7898.0</td>\n",
              "      <td>0</td>\n",
              "      <td>small</td>\n",
              "    </tr>\n",
              "    <tr>\n",
              "      <th>159</th>\n",
              "      <td>91.0</td>\n",
              "      <td>toyota</td>\n",
              "      <td>diesel</td>\n",
              "      <td>std</td>\n",
              "      <td>four</td>\n",
              "      <td>hatchback</td>\n",
              "      <td>fwd</td>\n",
              "      <td>front</td>\n",
              "      <td>95.7</td>\n",
              "      <td>166.3</td>\n",
              "      <td>...</td>\n",
              "      <td>3.27</td>\n",
              "      <td>3.35</td>\n",
              "      <td>22.5</td>\n",
              "      <td>56.0</td>\n",
              "      <td>4500.0</td>\n",
              "      <td>38</td>\n",
              "      <td>47</td>\n",
              "      <td>7788.0</td>\n",
              "      <td>0</td>\n",
              "      <td>small</td>\n",
              "    </tr>\n",
              "    <tr>\n",
              "      <th>174</th>\n",
              "      <td>65.0</td>\n",
              "      <td>toyota</td>\n",
              "      <td>diesel</td>\n",
              "      <td>turbo</td>\n",
              "      <td>four</td>\n",
              "      <td>sedan</td>\n",
              "      <td>fwd</td>\n",
              "      <td>front</td>\n",
              "      <td>102.4</td>\n",
              "      <td>175.6</td>\n",
              "      <td>...</td>\n",
              "      <td>3.27</td>\n",
              "      <td>3.35</td>\n",
              "      <td>22.5</td>\n",
              "      <td>73.0</td>\n",
              "      <td>4500.0</td>\n",
              "      <td>30</td>\n",
              "      <td>33</td>\n",
              "      <td>10698.0</td>\n",
              "      <td>-1</td>\n",
              "      <td>small</td>\n",
              "    </tr>\n",
              "  </tbody>\n",
              "</table>\n",
              "<p>12 rows × 27 columns</p>\n",
              "</div>"
            ],
            "text/plain": [
              "     normalized-losses        make fuel-type aspiration num-of-doors   \n",
              "37               106.0       honda       gas        std          two  \\\n",
              "38               106.0       honda       gas        std          two   \n",
              "39                85.0       honda       gas        std         four   \n",
              "40                85.0       honda       gas        std         four   \n",
              "41                85.0       honda       gas        std         four   \n",
              "42               107.0       honda       gas        std          two   \n",
              "80               153.0  mitsubishi       gas      turbo          two   \n",
              "87               125.0  mitsubishi       gas      turbo         four   \n",
              "88               137.0  mitsubishi       gas        std         four   \n",
              "158               91.0      toyota    diesel        std         four   \n",
              "159               91.0      toyota    diesel        std         four   \n",
              "174               65.0      toyota    diesel      turbo         four   \n",
              "\n",
              "    body-style drive-wheels engine-location  wheel-base  length  ...  bore   \n",
              "37   hatchback          fwd           front        96.5   167.5  ...  3.15  \\\n",
              "38   hatchback          fwd           front        96.5   167.5  ...  3.15   \n",
              "39       sedan          fwd           front        96.5   175.4  ...  3.15   \n",
              "40       sedan          fwd           front        96.5   175.4  ...  3.15   \n",
              "41       sedan          fwd           front        96.5   175.4  ...  3.15   \n",
              "42       sedan          fwd           front        96.5   169.1  ...  3.15   \n",
              "80   hatchback          fwd           front        96.3   173.0  ...  3.17   \n",
              "87       sedan          fwd           front        96.3   172.4  ...  3.17   \n",
              "88       sedan          fwd           front        96.3   172.4  ...  3.17   \n",
              "158      sedan          fwd           front        95.7   166.3  ...  3.27   \n",
              "159  hatchback          fwd           front        95.7   166.3  ...  3.27   \n",
              "174      sedan          fwd           front       102.4   175.6  ...  3.27   \n",
              "\n",
              "     stroke  compression-ratio horsepower peak-rpm  city-mpg highway-mpg   \n",
              "37     3.58                9.0       86.0   5800.0        27          33  \\\n",
              "38     3.58                9.0       86.0   5800.0        27          33   \n",
              "39     3.58                9.0       86.0   5800.0        27          33   \n",
              "40     3.58                9.0       86.0   5800.0        27          33   \n",
              "41     3.58                9.0      101.0   5800.0        24          28   \n",
              "42     3.58                9.1      100.0   5500.0        25          31   \n",
              "80     3.46                7.5      116.0   5500.0        23          30   \n",
              "87     3.46                7.5      116.0   5500.0        23          30   \n",
              "88     3.46                7.5      116.0   5500.0        23          30   \n",
              "158    3.35               22.5       56.0   4500.0        34          36   \n",
              "159    3.35               22.5       56.0   4500.0        38          47   \n",
              "174    3.35               22.5       73.0   4500.0        30          33   \n",
              "\n",
              "       price  symboling  engine-size_discretized  \n",
              "37    7895.0          0                    small  \n",
              "38    9095.0          0                    small  \n",
              "39    8845.0          0                    small  \n",
              "40   10295.0          0                    small  \n",
              "41   12945.0          0                    small  \n",
              "42   10345.0          1                    small  \n",
              "80    9959.0          3                    small  \n",
              "87    9279.0          1                    small  \n",
              "88    9279.0         -1                    small  \n",
              "158   7898.0          0                    small  \n",
              "159   7788.0          0                    small  \n",
              "174  10698.0         -1                    small  \n",
              "\n",
              "[12 rows x 27 columns]"
            ]
          },
          "execution_count": 45,
          "metadata": {},
          "output_type": "execute_result"
        }
      ],
      "source": [
        "df_autos.loc[df_autos['engine-size'] == 110]"
      ]
    },
    {
      "cell_type": "code",
      "execution_count": 46,
      "id": "f12u0xKNCQFR",
      "metadata": {
        "id": "f12u0xKNCQFR"
      },
      "outputs": [
        {
          "data": {
            "image/png": "[encoded data removed]",
            "text/plain": [
              "<Figure size 640x480 with 1 Axes>"
            ]
          },
          "metadata": {},
          "output_type": "display_data"
        }
      ],
      "source": [
        "# DIAGRAMA DE BARRAS DEL ATRIBUTO DISCRETIZADO\n",
        "enginesize_list = pandas.value_counts(df_autos['engine-size_discretized'])\n",
        "matplot.figure()\n",
        "N = len(enginesize_list)\n",
        "matplot.bar(numpy.arange(N), enginesize_list)  # Build the bar\n",
        "matplot.title('Engine Size')\n",
        "matplot.ylabel('Frequency')\n",
        "matplot.xticks(numpy.arange( N ), enginesize_list.index)\n",
        "matplot.show()"
      ]
    }
  ],
  "metadata": {
    "colab": {
      "provenance": []
    },
    "kernelspec": {
      "display_name": "Python 3",
      "language": "python",
      "name": "python3"
    },
    "language_info": {
      "codemirror_mode": {
        "name": "ipython",
        "version": 3
      },
      "file_extension": ".py",
      "mimetype": "text/x-python",
      "name": "python",
      "nbconvert_exporter": "python",
      "pygments_lexer": "ipython3",
      "version": "3.10.6"
    }
  },
  "nbformat": 4,
  "nbformat_minor": 5
}
